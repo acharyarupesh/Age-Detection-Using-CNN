{
 "cells": [
  {
   "cell_type": "code",
   "execution_count": 1,
   "metadata": {},
   "outputs": [
    {
     "name": "stderr",
     "output_type": "stream",
     "text": [
      "C:\\Users\\achar\\Anaconda3\\lib\\site-packages\\h5py\\__init__.py:36: FutureWarning: Conversion of the second argument of issubdtype from `float` to `np.floating` is deprecated. In future, it will be treated as `np.float64 == np.dtype(float).type`.\n",
      "  from ._conv import register_converters as _register_converters\n",
      "Using TensorFlow backend.\n"
     ]
    }
   ],
   "source": [
    "from keras import backend as K\n",
    "from os import environ\n",
    "from importlib import reload\n",
    "import tensorflow as tf\n",
    "\n",
    "# user defined function to change keras backend\n",
    "def set_keras_backend(backend):\n",
    "    if K.backend() != backend:\n",
    "       environ['KERAS_BACKEND'] = backend\n",
    "       reload(K)\n",
    "       assert K.backend() == backend\n",
    "\n",
    "# call the function with \"tensorflow\"\n",
    "set_keras_backend(\"tensorflow\")"
   ]
  },
  {
   "cell_type": "code",
   "execution_count": 2,
   "metadata": {},
   "outputs": [
    {
     "name": "stdout",
     "output_type": "stream",
     "text": [
      "tensorflow\n"
     ]
    }
   ],
   "source": [
    "import pandas as pd\n",
    "import os\n",
    "import numpy as np\n",
    "import glob\n",
    "from scipy.misc import imread\n",
    "import matplotlib.pylab as pylab\n",
    "import cv2\n",
    "import keras\n",
    "from keras.utils import np_utils\n",
    "from sklearn.preprocessing import LabelEncoder\n",
    "from keras.models import Sequential\n",
    "from keras.layers import Convolution2D\n",
    "from keras.layers import MaxPooling2D\n",
    "from keras.layers import Flatten\n",
    "from keras.layers import Dense\n",
    "from keras import backend as K\n",
    "print(keras.backend.backend())"
   ]
  },
  {
   "cell_type": "code",
   "execution_count": 3,
   "metadata": {},
   "outputs": [
    {
     "data": {
      "text/html": [
       "<div>\n",
       "<style scoped>\n",
       "    .dataframe tbody tr th:only-of-type {\n",
       "        vertical-align: middle;\n",
       "    }\n",
       "\n",
       "    .dataframe tbody tr th {\n",
       "        vertical-align: top;\n",
       "    }\n",
       "\n",
       "    .dataframe thead th {\n",
       "        text-align: right;\n",
       "    }\n",
       "</style>\n",
       "<table border=\"1\" class=\"dataframe\">\n",
       "  <thead>\n",
       "    <tr style=\"text-align: right;\">\n",
       "      <th></th>\n",
       "      <th>ID</th>\n",
       "      <th>Class</th>\n",
       "    </tr>\n",
       "  </thead>\n",
       "  <tbody>\n",
       "    <tr>\n",
       "      <th>0</th>\n",
       "      <td>377.jpg</td>\n",
       "      <td>MIDDLE</td>\n",
       "    </tr>\n",
       "    <tr>\n",
       "      <th>1</th>\n",
       "      <td>17814.jpg</td>\n",
       "      <td>YOUNG</td>\n",
       "    </tr>\n",
       "    <tr>\n",
       "      <th>2</th>\n",
       "      <td>21283.jpg</td>\n",
       "      <td>MIDDLE</td>\n",
       "    </tr>\n",
       "    <tr>\n",
       "      <th>3</th>\n",
       "      <td>16496.jpg</td>\n",
       "      <td>YOUNG</td>\n",
       "    </tr>\n",
       "    <tr>\n",
       "      <th>4</th>\n",
       "      <td>4487.jpg</td>\n",
       "      <td>MIDDLE</td>\n",
       "    </tr>\n",
       "  </tbody>\n",
       "</table>\n",
       "</div>"
      ],
      "text/plain": [
       "          ID   Class\n",
       "0    377.jpg  MIDDLE\n",
       "1  17814.jpg   YOUNG\n",
       "2  21283.jpg  MIDDLE\n",
       "3  16496.jpg   YOUNG\n",
       "4   4487.jpg  MIDDLE"
      ]
     },
     "execution_count": 3,
     "metadata": {},
     "output_type": "execute_result"
    }
   ],
   "source": [
    "train_csv = pd.read_csv('train.csv')\n",
    "train_csv.head()"
   ]
  },
  {
   "cell_type": "code",
   "execution_count": 4,
   "metadata": {},
   "outputs": [],
   "source": [
    "seed = 128\n",
    "rng = np.random.RandomState(seed)"
   ]
  },
  {
   "cell_type": "code",
   "execution_count": 5,
   "metadata": {},
   "outputs": [
    {
     "name": "stdout",
     "output_type": "stream",
     "text": [
      "Train\\23790.jpg\n",
      "23790.jpg\n"
     ]
    }
   ],
   "source": [
    "img_name = rng.choice(train_csv.ID)\n",
    "filepath = os.path.join('Train', img_name)\n",
    "print(filepath)\n",
    "print(img_name)"
   ]
  },
  {
   "cell_type": "code",
   "execution_count": 6,
   "metadata": {},
   "outputs": [],
   "source": [
    "img_array = []\n",
    "for img_name in train_csv.ID:\n",
    "    image_path = os.path.join('Train',img_name)\n",
    "    img = cv2.imread(image_path)\n",
    "    img = cv2.resize(img, (32,32))\n",
    "    img = np.array(img, dtype = 'float32')\n",
    "    img_array.append(img)"
   ]
  },
  {
   "cell_type": "code",
   "execution_count": 7,
   "metadata": {},
   "outputs": [],
   "source": [
    "train_x = np.stack(img_array)"
   ]
  },
  {
   "cell_type": "code",
   "execution_count": 8,
   "metadata": {},
   "outputs": [],
   "source": [
    "train_x /= 255.0"
   ]
  },
  {
   "cell_type": "code",
   "execution_count": 9,
   "metadata": {},
   "outputs": [],
   "source": [
    "encoder = LabelEncoder()\n",
    "encoder.fit(train_csv.Class)\n",
    "encoded_labels = encoder.transform(train_csv.Class)\n",
    "train_y = np_utils.to_categorical(encoded_labels)"
   ]
  },
  {
   "cell_type": "code",
   "execution_count": 10,
   "metadata": {},
   "outputs": [
    {
     "name": "stdout",
     "output_type": "stream",
     "text": [
      "[[1. 0. 0.]\n",
      " [0. 0. 1.]\n",
      " [1. 0. 0.]\n",
      " ...\n",
      " [1. 0. 0.]\n",
      " [1. 0. 0.]\n",
      " [1. 0. 0.]]\n"
     ]
    }
   ],
   "source": [
    "print(train_y)"
   ]
  },
  {
   "cell_type": "code",
   "execution_count": 11,
   "metadata": {},
   "outputs": [],
   "source": [
    "# Initializing the CNN\n",
    "classifier = Sequential()"
   ]
  },
  {
   "cell_type": "code",
   "execution_count": 12,
   "metadata": {},
   "outputs": [
    {
     "name": "stderr",
     "output_type": "stream",
     "text": [
      "C:\\Users\\achar\\Anaconda3\\lib\\site-packages\\ipykernel_launcher.py:1: UserWarning: Update your `Conv2D` call to the Keras 2 API: `Conv2D(64, (3, 3), input_shape=(32, 32, 3..., activation=\"relu\")`\n",
      "  \"\"\"Entry point for launching an IPython kernel.\n"
     ]
    }
   ],
   "source": [
    "classifier.add(Convolution2D(64,3,3,input_shape = (32,32,3), activation = 'relu'))"
   ]
  },
  {
   "cell_type": "code",
   "execution_count": 13,
   "metadata": {},
   "outputs": [],
   "source": [
    "classifier.add(MaxPooling2D(pool_size = (2,2))) #Applying Max Pooling to the convlved matrix"
   ]
  },
  {
   "cell_type": "code",
   "execution_count": 14,
   "metadata": {},
   "outputs": [
    {
     "name": "stderr",
     "output_type": "stream",
     "text": [
      "C:\\Users\\achar\\Anaconda3\\lib\\site-packages\\ipykernel_launcher.py:1: UserWarning: Update your `Conv2D` call to the Keras 2 API: `Conv2D(64, (3, 3), input_shape=(15, 15, 3..., activation=\"relu\")`\n",
      "  \"\"\"Entry point for launching an IPython kernel.\n"
     ]
    }
   ],
   "source": [
    "classifier.add(Convolution2D(64,3,3,input_shape = (15,15,3), activation = 'relu')) #Adding the convolution layer"
   ]
  },
  {
   "cell_type": "code",
   "execution_count": 15,
   "metadata": {},
   "outputs": [],
   "source": [
    "classifier.add(MaxPooling2D(pool_size = (2,2))) #Applying Max Pooling to the convlved matrix"
   ]
  },
  {
   "cell_type": "code",
   "execution_count": 16,
   "metadata": {},
   "outputs": [],
   "source": [
    "classifier.add(Flatten()) #Flattening the matrix"
   ]
  },
  {
   "cell_type": "code",
   "execution_count": 17,
   "metadata": {},
   "outputs": [
    {
     "name": "stderr",
     "output_type": "stream",
     "text": [
      "C:\\Users\\achar\\Anaconda3\\lib\\site-packages\\ipykernel_launcher.py:1: UserWarning: Update your `Dense` call to the Keras 2 API: `Dense(activation=\"relu\", units=128)`\n",
      "  \"\"\"Entry point for launching an IPython kernel.\n",
      "C:\\Users\\achar\\Anaconda3\\lib\\site-packages\\ipykernel_launcher.py:2: UserWarning: Update your `Dense` call to the Keras 2 API: `Dense(activation=\"relu\", units=128)`\n",
      "  \n",
      "C:\\Users\\achar\\Anaconda3\\lib\\site-packages\\ipykernel_launcher.py:3: UserWarning: Update your `Dense` call to the Keras 2 API: `Dense(activation=\"relu\", units=128)`\n",
      "  This is separate from the ipykernel package so we can avoid doing imports until\n",
      "C:\\Users\\achar\\Anaconda3\\lib\\site-packages\\ipykernel_launcher.py:4: UserWarning: Update your `Dense` call to the Keras 2 API: `Dense(activation=\"softmax\", units=3)`\n",
      "  after removing the cwd from sys.path.\n"
     ]
    }
   ],
   "source": [
    "#Adding layers\n",
    "classifier.add(Dense(output_dim = 128, activation = 'relu'))\n",
    "classifier.add(Dense(output_dim = 128, activation = 'relu'))\n",
    "classifier.add(Dense(output_dim = 128, activation = 'relu'))\n",
    "classifier.add(Dense(output_dim = 3, activation = 'softmax'))"
   ]
  },
  {
   "cell_type": "code",
   "execution_count": 18,
   "metadata": {},
   "outputs": [],
   "source": [
    "#Compiling model\n",
    "classifier.compile( optimizer = 'adam',loss = 'categorical_crossentropy', metrics = ['accuracy'])"
   ]
  },
  {
   "cell_type": "code",
   "execution_count": 19,
   "metadata": {},
   "outputs": [],
   "source": [
    "epochs = 30\n",
    "batch_size = 20 #As the size of images is small so we can afford small batch size for better performance"
   ]
  },
  {
   "cell_type": "code",
   "execution_count": 20,
   "metadata": {},
   "outputs": [
    {
     "name": "stderr",
     "output_type": "stream",
     "text": [
      "C:\\Users\\achar\\Anaconda3\\lib\\site-packages\\ipykernel_launcher.py:1: UserWarning: The `nb_epoch` argument in `fit` has been renamed `epochs`.\n",
      "  \"\"\"Entry point for launching an IPython kernel.\n"
     ]
    },
    {
     "name": "stdout",
     "output_type": "stream",
     "text": [
      "Epoch 1/30\n",
      "19906/19906 [==============================] - 44s 2ms/step - loss: 0.8243 - acc: 0.6250\n",
      "Epoch 2/30\n",
      "19906/19906 [==============================] - 43s 2ms/step - loss: 0.7010 - acc: 0.6937\n",
      "Epoch 3/30\n",
      "19906/19906 [==============================] - 43s 2ms/step - loss: 0.6386 - acc: 0.7233: 1s - los\n",
      "Epoch 4/30\n",
      "19906/19906 [==============================] - 43s 2ms/step - loss: 0.5782 - acc: 0.7523\n",
      "Epoch 5/30\n",
      "19906/19906 [==============================] - 43s 2ms/step - loss: 0.5197 - acc: 0.7804\n",
      "Epoch 6/30\n",
      "19906/19906 [==============================] - 43s 2ms/step - loss: 0.4708 - acc: 0.8075\n",
      "Epoch 7/30\n",
      "19906/19906 [==============================] - 50s 3ms/step - loss: 0.4094 - acc: 0.8319\n",
      "Epoch 8/30\n",
      "19906/19906 [==============================] - 50s 3ms/step - loss: 0.3631 - acc: 0.8539\n",
      "Epoch 9/30\n",
      "19906/19906 [==============================] - 50s 3ms/step - loss: 0.3120 - acc: 0.8736\n",
      "Epoch 10/30\n",
      "19906/19906 [==============================] - 50s 2ms/step - loss: 0.2714 - acc: 0.8915\n",
      "Epoch 11/30\n",
      "19906/19906 [==============================] - 51s 3ms/step - loss: 0.2359 - acc: 0.9071\n",
      "Epoch 12/30\n",
      "19906/19906 [==============================] - 50s 3ms/step - loss: 0.2108 - acc: 0.9176\n",
      "Epoch 13/30\n",
      "19906/19906 [==============================] - 50s 3ms/step - loss: 0.1800 - acc: 0.9303\n",
      "Epoch 14/30\n",
      "19906/19906 [==============================] - 51s 3ms/step - loss: 0.1551 - acc: 0.9412\n",
      "Epoch 15/30\n",
      "19906/19906 [==============================] - 54s 3ms/step - loss: 0.1474 - acc: 0.9449\n",
      "Epoch 16/30\n",
      "19906/19906 [==============================] - 53s 3ms/step - loss: 0.1225 - acc: 0.9547\n",
      "Epoch 17/30\n",
      "19906/19906 [==============================] - 53s 3ms/step - loss: 0.1097 - acc: 0.9596\n",
      "Epoch 18/30\n",
      "19906/19906 [==============================] - 51s 3ms/step - loss: 0.1082 - acc: 0.9597\n",
      "Epoch 19/30\n",
      "19906/19906 [==============================] - 50s 3ms/step - loss: 0.0926 - acc: 0.9663\n",
      "Epoch 20/30\n",
      "19906/19906 [==============================] - 51s 3ms/step - loss: 0.0915 - acc: 0.9666\n",
      "Epoch 21/30\n",
      "19906/19906 [==============================] - 51s 3ms/step - loss: 0.0756 - acc: 0.9722\n",
      "Epoch 22/30\n",
      "19906/19906 [==============================] - 50s 3ms/step - loss: 0.0702 - acc: 0.9750\n",
      "Epoch 23/30\n",
      "19906/19906 [==============================] - 51s 3ms/step - loss: 0.0815 - acc: 0.9693\n",
      "Epoch 24/30\n",
      "19906/19906 [==============================] - 50s 3ms/step - loss: 0.0593 - acc: 0.9789\n",
      "Epoch 25/30\n",
      "19906/19906 [==============================] - 53s 3ms/step - loss: 0.0587 - acc: 0.9795\n",
      "Epoch 26/30\n",
      "19906/19906 [==============================] - 54s 3ms/step - loss: 0.0601 - acc: 0.9793\n",
      "Epoch 27/30\n",
      "19906/19906 [==============================] - 55s 3ms/step - loss: 0.0609 - acc: 0.9786\n",
      "Epoch 28/30\n",
      "19906/19906 [==============================] - 54s 3ms/step - loss: 0.0583 - acc: 0.9801\n",
      "Epoch 29/30\n",
      "19906/19906 [==============================] - 54s 3ms/step - loss: 0.0557 - acc: 0.9810\n",
      "Epoch 30/30\n",
      "19906/19906 [==============================] - 54s 3ms/step - loss: 0.0553 - acc: 0.9811\n"
     ]
    },
    {
     "data": {
      "text/plain": [
       "<keras.callbacks.History at 0x2b4f1449b70>"
      ]
     },
     "execution_count": 20,
     "metadata": {},
     "output_type": "execute_result"
    }
   ],
   "source": [
    "#Training Model\n",
    "classifier.fit(train_x, train_y, nb_epoch=epochs, batch_size=batch_size)"
   ]
  },
  {
   "cell_type": "code",
   "execution_count": 65,
   "metadata": {},
   "outputs": [
    {
     "name": "stdout",
     "output_type": "stream",
     "text": [
      "19906/19906 [==============================] - 18s 880us/step\n"
     ]
    }
   ],
   "source": [
    "score = classifier.evaluate(train_x, train_y, batch_size=128)"
   ]
  },
  {
   "cell_type": "code",
   "execution_count": 106,
   "metadata": {},
   "outputs": [
    {
     "name": "stdout",
     "output_type": "stream",
     "text": [
      "Accuracy:  99.12086807997589\n"
     ]
    }
   ],
   "source": [
    "print(\"Accuracy: \", (score[1])*100)"
   ]
  },
  {
   "cell_type": "code",
   "execution_count": 23,
   "metadata": {},
   "outputs": [
    {
     "data": {
      "text/html": [
       "<div>\n",
       "<style scoped>\n",
       "    .dataframe tbody tr th:only-of-type {\n",
       "        vertical-align: middle;\n",
       "    }\n",
       "\n",
       "    .dataframe tbody tr th {\n",
       "        vertical-align: top;\n",
       "    }\n",
       "\n",
       "    .dataframe thead th {\n",
       "        text-align: right;\n",
       "    }\n",
       "</style>\n",
       "<table border=\"1\" class=\"dataframe\">\n",
       "  <thead>\n",
       "    <tr style=\"text-align: right;\">\n",
       "      <th></th>\n",
       "      <th>ID</th>\n",
       "    </tr>\n",
       "  </thead>\n",
       "  <tbody>\n",
       "    <tr>\n",
       "      <th>0</th>\n",
       "      <td>25321.jpg</td>\n",
       "    </tr>\n",
       "    <tr>\n",
       "      <th>1</th>\n",
       "      <td>989.jpg</td>\n",
       "    </tr>\n",
       "    <tr>\n",
       "      <th>2</th>\n",
       "      <td>19277.jpg</td>\n",
       "    </tr>\n",
       "    <tr>\n",
       "      <th>3</th>\n",
       "      <td>13093.jpg</td>\n",
       "    </tr>\n",
       "    <tr>\n",
       "      <th>4</th>\n",
       "      <td>5367.jpg</td>\n",
       "    </tr>\n",
       "  </tbody>\n",
       "</table>\n",
       "</div>"
      ],
      "text/plain": [
       "          ID\n",
       "0  25321.jpg\n",
       "1    989.jpg\n",
       "2  19277.jpg\n",
       "3  13093.jpg\n",
       "4   5367.jpg"
      ]
     },
     "execution_count": 23,
     "metadata": {},
     "output_type": "execute_result"
    }
   ],
   "source": [
    "# Importing Test Data\n",
    "test = pd.read_csv('test.csv')\n",
    "test.head()"
   ]
  },
  {
   "cell_type": "code",
   "execution_count": 25,
   "metadata": {},
   "outputs": [
    {
     "name": "stdout",
     "output_type": "stream",
     "text": [
      "Test\\18879.jpg\n",
      "18879.jpg\n"
     ]
    }
   ],
   "source": [
    "img_name_test = rng.choice(test.ID)\n",
    "filepath = os.path.join('Test', img_name_test)\n",
    "print(filepath)\n",
    "print(img_name_test)"
   ]
  },
  {
   "cell_type": "code",
   "execution_count": 26,
   "metadata": {},
   "outputs": [],
   "source": [
    "img_array = []\n",
    "for img_name in test.ID:\n",
    "    image_path = os.path.join('Test',img_name)\n",
    "    img = cv2.imread(image_path)\n",
    "    img = cv2.resize(img, (32,32))\n",
    "    img = np.array(img, dtype = 'float32')\n",
    "    img_array.append(img)"
   ]
  },
  {
   "cell_type": "code",
   "execution_count": 28,
   "metadata": {},
   "outputs": [],
   "source": [
    "test_x = np.stack(img_array)"
   ]
  },
  {
   "cell_type": "code",
   "execution_count": 29,
   "metadata": {},
   "outputs": [],
   "source": [
    "test_x /= 255.0"
   ]
  },
  {
   "cell_type": "code",
   "execution_count": 30,
   "metadata": {},
   "outputs": [],
   "source": [
    "pred = classifier.predict_classes(test_x)"
   ]
  },
  {
   "cell_type": "code",
   "execution_count": 31,
   "metadata": {},
   "outputs": [
    {
     "data": {
      "text/plain": [
       "array([0, 2, 0, ..., 0, 0, 2], dtype=int64)"
      ]
     },
     "execution_count": 31,
     "metadata": {},
     "output_type": "execute_result"
    }
   ],
   "source": [
    "pred"
   ]
  },
  {
   "cell_type": "code",
   "execution_count": 32,
   "metadata": {},
   "outputs": [
    {
     "data": {
      "text/plain": [
       "6636"
      ]
     },
     "execution_count": 32,
     "metadata": {},
     "output_type": "execute_result"
    }
   ],
   "source": [
    "len(pred)"
   ]
  },
  {
   "cell_type": "code",
   "execution_count": 33,
   "metadata": {},
   "outputs": [
    {
     "name": "stderr",
     "output_type": "stream",
     "text": [
      "C:\\Users\\achar\\Anaconda3\\lib\\site-packages\\sklearn\\preprocessing\\label.py:151: DeprecationWarning: The truth value of an empty array is ambiguous. Returning False, but in future this will result in an error. Use `array.size > 0` to check that an array is not empty.\n",
      "  if diff:\n"
     ]
    }
   ],
   "source": [
    "pred = encoder.inverse_transform(pred)\n",
    "\n",
    "test['Class'] = pred\n",
    "test.to_csv(\"output.csv\", index=False)"
   ]
  },
  {
   "cell_type": "code",
   "execution_count": 76,
   "metadata": {},
   "outputs": [
    {
     "name": "stderr",
     "output_type": "stream",
     "text": [
      "C:\\Users\\achar\\Anaconda3\\lib\\site-packages\\ipykernel_launcher.py:7: DeprecationWarning: `imread` is deprecated!\n",
      "`imread` is deprecated in SciPy 1.0.0, and will be removed in 1.2.0.\n",
      "Use ``imageio.imread`` instead.\n",
      "  import sys\n",
      "C:\\Users\\achar\\Anaconda3\\lib\\site-packages\\ipykernel_launcher.py:9: DeprecationWarning: `imresize` is deprecated!\n",
      "`imresize` is deprecated in SciPy 1.0.0, and will be removed in 1.2.0.\n",
      "Use ``skimage.transform.resize`` instead.\n",
      "  if __name__ == '__main__':\n"
     ]
    },
    {
     "data": {
      "image/png": "[encoded data removed]",
      "text/plain": [
       "<Figure size 432x288 with 1 Axes>"
      ]
     },
     "metadata": {},
     "output_type": "display_data"
    },
    {
     "name": "stdout",
     "output_type": "stream",
     "text": [
      "Predicted: MIDDLE\n"
     ]
    },
    {
     "name": "stderr",
     "output_type": "stream",
     "text": [
      "C:\\Users\\achar\\Anaconda3\\lib\\site-packages\\sklearn\\preprocessing\\label.py:151: DeprecationWarning: The truth value of an empty array is ambiguous. Returning False, but in future this will result in an error. Use `array.size > 0` to check that an array is not empty.\n",
      "  if diff:\n"
     ]
    }
   ],
   "source": [
    "import random\n",
    "from matplotlib import pyplot as plt\n",
    "from scipy.misc import imresize\n",
    "i = random.choice(test.index)\n",
    "img_name = test.ID[i]\n",
    "img_path = os.path.join('Test', img_name)\n",
    "img = imread(img_path).astype('float32')\n",
    "#imshow(imresize(img, (128, 128)))\n",
    "plt.imshow(imresize(img, (128, 128)))\n",
    "plt.show()\n",
    "pred = classifier.predict_classes(test_x)\n",
    "print('Predicted:', encoder.inverse_transform(pred[i]))"
   ]
  },
  {
   "cell_type": "code",
   "execution_count": null,
   "metadata": {},
   "outputs": [],
   "source": []
  },
  {
   "cell_type": "markdown",
   "metadata": {},
   "source": [
    "### Part B: Activation Function"
   ]
  },
  {
   "cell_type": "code",
   "execution_count": 78,
   "metadata": {},
   "outputs": [],
   "source": [
    "from keras.layers.advanced_activations import LeakyReLU, PReLU"
   ]
  },
  {
   "cell_type": "markdown",
   "metadata": {},
   "source": [
    "### Using LeakyRelu"
   ]
  },
  {
   "cell_type": "code",
   "execution_count": 79,
   "metadata": {},
   "outputs": [
    {
     "name": "stderr",
     "output_type": "stream",
     "text": [
      "C:\\Users\\achar\\Anaconda3\\lib\\site-packages\\ipykernel_launcher.py:3: UserWarning: Update your `Conv2D` call to the Keras 2 API: `Conv2D(64, (3, 3), input_shape=(32, 32, 3..., activation=\"relu\")`\n",
      "  This is separate from the ipykernel package so we can avoid doing imports until\n",
      "C:\\Users\\achar\\Anaconda3\\lib\\site-packages\\ipykernel_launcher.py:5: UserWarning: Update your `Conv2D` call to the Keras 2 API: `Conv2D(64, (3, 3), input_shape=(15, 15, 3..., activation=\"relu\")`\n",
      "  \"\"\"\n",
      "C:\\Users\\achar\\Anaconda3\\lib\\site-packages\\ipykernel_launcher.py:8: UserWarning: Update your `Dense` call to the Keras 2 API: `Dense(activation=\"relu\", units=128)`\n",
      "  \n",
      "C:\\Users\\achar\\Anaconda3\\lib\\site-packages\\ipykernel_launcher.py:9: UserWarning: Update your `Dense` call to the Keras 2 API: `Dense(activation=\"relu\", units=128)`\n",
      "  if __name__ == '__main__':\n",
      "C:\\Users\\achar\\Anaconda3\\lib\\site-packages\\ipykernel_launcher.py:10: UserWarning: Update your `Dense` call to the Keras 2 API: `Dense(activation=\"relu\", units=128)`\n",
      "  # Remove the CWD from sys.path while we load stuff.\n",
      "C:\\Users\\achar\\Anaconda3\\lib\\site-packages\\ipykernel_launcher.py:11: UserWarning: Update your `Dense` call to the Keras 2 API: `Dense(activation=\"softmax\", units=3)`\n",
      "  # This is added back by InteractiveShellApp.init_path()\n",
      "C:\\Users\\achar\\Anaconda3\\lib\\site-packages\\ipykernel_launcher.py:16: UserWarning: The `nb_epoch` argument in `fit` has been renamed `epochs`.\n",
      "  app.launch_new_instance()\n"
     ]
    },
    {
     "name": "stdout",
     "output_type": "stream",
     "text": [
      "Epoch 1/10\n",
      "19906/19906 [==============================] - 48s 2ms/step - loss: 0.8273 - acc: 0.6286\n",
      "Epoch 2/10\n",
      "19906/19906 [==============================] - 46s 2ms/step - loss: 0.7106 - acc: 0.6859\n",
      "Epoch 3/10\n",
      "19906/19906 [==============================] - 47s 2ms/step - loss: 0.6444 - acc: 0.7221\n",
      "Epoch 4/10\n",
      "19906/19906 [==============================] - 47s 2ms/step - loss: 0.5880 - acc: 0.7502\n",
      "Epoch 5/10\n",
      "19906/19906 [==============================] - 47s 2ms/step - loss: 0.5352 - acc: 0.7814\n",
      "Epoch 6/10\n",
      "19906/19906 [==============================] - 47s 2ms/step - loss: 0.4853 - acc: 0.7995\n",
      "Epoch 7/10\n",
      "19906/19906 [==============================] - 47s 2ms/step - loss: 0.4387 - acc: 0.8216\n",
      "Epoch 8/10\n",
      "19906/19906 [==============================] - 47s 2ms/step - loss: 0.4003 - acc: 0.8372\n",
      "Epoch 9/10\n",
      "19906/19906 [==============================] - 47s 2ms/step - loss: 0.3551 - acc: 0.8567\n",
      "Epoch 10/10\n",
      "19906/19906 [==============================] - 48s 2ms/step - loss: 0.3219 - acc: 0.8737\n"
     ]
    },
    {
     "data": {
      "text/plain": [
       "<keras.callbacks.History at 0x2b487949390>"
      ]
     },
     "execution_count": 79,
     "metadata": {},
     "output_type": "execute_result"
    }
   ],
   "source": [
    "classifier_1 = Sequential()\n",
    "\n",
    "classifier_1.add(Convolution2D(64,3,3,input_shape = (32,32,3), activation = 'relu'))\n",
    "classifier_1.add(MaxPooling2D(pool_size = (2,2))) #Applying Max Pooling to the convlved matrix\n",
    "classifier_1.add(Convolution2D(64,3,3,input_shape = (15,15,3), activation = 'relu')) #Adding the convolution layer\n",
    "classifier_1.add(MaxPooling2D(pool_size = (2,2))) #Applying Max Pooling to the convlved matrix\n",
    "classifier_1.add(Flatten()) #Flattening the matrix\n",
    "classifier_1.add(Dense(output_dim = 128, activation = 'relu'))\n",
    "classifier_1.add(Dense(output_dim = 128, activation = 'relu'))\n",
    "classifier_1.add(Dense(output_dim = 128, activation = 'relu'))\n",
    "classifier_1.add(Dense(output_dim = 3, activation = 'softmax'))\n",
    "classifier_1.add(LeakyReLU(alpha=.1))\n",
    "classifier_1.compile(optimizer = 'adam',loss = 'categorical_crossentropy', metrics = ['accuracy'])\n",
    "epochs = 10\n",
    "batch_size = 20 #As the size of images is small so we can afford small batch size for better performance\n",
    "classifier_1.fit(train_x, train_y, nb_epoch=epochs, batch_size=batch_size)"
   ]
  },
  {
   "cell_type": "code",
   "execution_count": 80,
   "metadata": {},
   "outputs": [
    {
     "name": "stdout",
     "output_type": "stream",
     "text": [
      "19906/19906 [==============================] - 13s 675us/step\n"
     ]
    }
   ],
   "source": [
    "score_1 = classifier_1.evaluate(train_x, train_y, batch_size=128)"
   ]
  },
  {
   "cell_type": "code",
   "execution_count": 107,
   "metadata": {
    "scrolled": true
   },
   "outputs": [
    {
     "name": "stdout",
     "output_type": "stream",
     "text": [
      "Accuracy:  90.20898221521944\n"
     ]
    }
   ],
   "source": [
    "print(\"Accuracy: \", (score_1[1])*100)"
   ]
  },
  {
   "cell_type": "markdown",
   "metadata": {},
   "source": [
    "### Using PReLU"
   ]
  },
  {
   "cell_type": "code",
   "execution_count": 82,
   "metadata": {},
   "outputs": [
    {
     "name": "stderr",
     "output_type": "stream",
     "text": [
      "C:\\Users\\achar\\Anaconda3\\lib\\site-packages\\ipykernel_launcher.py:3: UserWarning: Update your `Conv2D` call to the Keras 2 API: `Conv2D(64, (3, 3), input_shape=(32, 32, 3..., activation=\"relu\")`\n",
      "  This is separate from the ipykernel package so we can avoid doing imports until\n",
      "C:\\Users\\achar\\Anaconda3\\lib\\site-packages\\ipykernel_launcher.py:5: UserWarning: Update your `Conv2D` call to the Keras 2 API: `Conv2D(64, (3, 3), input_shape=(15, 15, 3..., activation=\"relu\")`\n",
      "  \"\"\"\n",
      "C:\\Users\\achar\\Anaconda3\\lib\\site-packages\\ipykernel_launcher.py:8: UserWarning: Update your `Dense` call to the Keras 2 API: `Dense(activation=\"relu\", units=128)`\n",
      "  \n",
      "C:\\Users\\achar\\Anaconda3\\lib\\site-packages\\ipykernel_launcher.py:9: UserWarning: Update your `Dense` call to the Keras 2 API: `Dense(activation=\"relu\", units=128)`\n",
      "  if __name__ == '__main__':\n",
      "C:\\Users\\achar\\Anaconda3\\lib\\site-packages\\ipykernel_launcher.py:10: UserWarning: Update your `Dense` call to the Keras 2 API: `Dense(activation=\"relu\", units=128)`\n",
      "  # Remove the CWD from sys.path while we load stuff.\n",
      "C:\\Users\\achar\\Anaconda3\\lib\\site-packages\\ipykernel_launcher.py:11: UserWarning: Update your `Dense` call to the Keras 2 API: `Dense(activation=\"softmax\", units=3)`\n",
      "  # This is added back by InteractiveShellApp.init_path()\n",
      "C:\\Users\\achar\\Anaconda3\\lib\\site-packages\\ipykernel_launcher.py:12: UserWarning: Update your `PReLU` call to the Keras 2 API: `PReLU(weights=None, alpha_initializer=\"one\")`\n",
      "  if sys.path[0] == '':\n",
      "C:\\Users\\achar\\Anaconda3\\lib\\site-packages\\ipykernel_launcher.py:17: UserWarning: The `nb_epoch` argument in `fit` has been renamed `epochs`.\n"
     ]
    },
    {
     "name": "stdout",
     "output_type": "stream",
     "text": [
      "Epoch 1/10\n",
      "19906/19906 [==============================] - 47s 2ms/step - loss: 0.8287 - acc: 0.6244\n",
      "Epoch 2/10\n",
      "19906/19906 [==============================] - 47s 2ms/step - loss: 0.7065 - acc: 0.6906\n",
      "Epoch 3/10\n",
      "19906/19906 [==============================] - 49s 2ms/step - loss: 0.6406 - acc: 0.7214\n",
      "Epoch 4/10\n",
      "19906/19906 [==============================] - 47s 2ms/step - loss: 0.5820 - acc: 0.7511\n",
      "Epoch 5/10\n",
      "19906/19906 [==============================] - 45s 2ms/step - loss: 0.5336 - acc: 0.7776\n",
      "Epoch 6/10\n",
      "19906/19906 [==============================] - 48s 2ms/step - loss: 0.4798 - acc: 0.8033\n",
      "Epoch 7/10\n",
      "19906/19906 [==============================] - 47s 2ms/step - loss: 0.4335 - acc: 0.8217\n",
      "Epoch 8/10\n",
      "19906/19906 [==============================] - 48s 2ms/step - loss: 0.3842 - acc: 0.8464\n",
      "Epoch 9/10\n",
      "19906/19906 [==============================] - 48s 2ms/step - loss: 0.3365 - acc: 0.8673\n",
      "Epoch 10/10\n",
      "19906/19906 [==============================] - 47s 2ms/step - loss: 0.2955 - acc: 0.8845\n"
     ]
    },
    {
     "data": {
      "text/plain": [
       "<keras.callbacks.History at 0x2b487f652b0>"
      ]
     },
     "execution_count": 82,
     "metadata": {},
     "output_type": "execute_result"
    }
   ],
   "source": [
    "classifier_2 = Sequential()\n",
    "\n",
    "classifier_2.add(Convolution2D(64,3,3,input_shape = (32,32,3), activation = 'relu'))\n",
    "classifier_2.add(MaxPooling2D(pool_size = (2,2))) #Applying Max Pooling to the convlved matrix\n",
    "classifier_2.add(Convolution2D(64,3,3,input_shape = (15,15,3), activation = 'relu')) #Adding the convolution layer\n",
    "classifier_2.add(MaxPooling2D(pool_size = (2,2))) #Applying Max Pooling to the convlved matrix\n",
    "classifier_2.add(Flatten()) #Flattening the matrix\n",
    "classifier_2.add(Dense(output_dim = 128, activation = 'relu'))\n",
    "classifier_2.add(Dense(output_dim = 128, activation = 'relu'))\n",
    "classifier_2.add(Dense(output_dim = 128, activation = 'relu'))\n",
    "classifier_2.add(Dense(output_dim = 3, activation = 'softmax'))\n",
    "act = keras.layers.advanced_activations.PReLU(init='one', weights=None)\n",
    "classifier_2.add(act)\n",
    "classifier_2.compile(optimizer = 'adam',loss = 'categorical_crossentropy', metrics = ['accuracy'])\n",
    "epochs = 10\n",
    "batch_size = 20 #As the size of images is small so we can afford small batch size for better performance\n",
    "classifier_2.fit(train_x, train_y, nb_epoch=epochs, batch_size=batch_size)"
   ]
  },
  {
   "cell_type": "code",
   "execution_count": 83,
   "metadata": {},
   "outputs": [
    {
     "name": "stdout",
     "output_type": "stream",
     "text": [
      "19906/19906 [==============================] - 14s 692us/step\n"
     ]
    }
   ],
   "source": [
    "score_2 = classifier_2.evaluate(train_x, train_y, batch_size=128)"
   ]
  },
  {
   "cell_type": "code",
   "execution_count": 108,
   "metadata": {},
   "outputs": [
    {
     "name": "stdout",
     "output_type": "stream",
     "text": [
      "Accuracy:  91.19863358679865\n"
     ]
    }
   ],
   "source": [
    "print(\"Accuracy: \", (score_2[1])*100)"
   ]
  },
  {
   "cell_type": "markdown",
   "metadata": {},
   "source": [
    "##### How does it effect the accuracy?\n",
    "**Ans:** As we can see, I have used 2 activation functions named LeakyRelu and PReLU, the accuracy of each is 90.1 and 91.1 respectively. PReLU is better than LeakyRelu."
   ]
  },
  {
   "cell_type": "markdown",
   "metadata": {},
   "source": [
    "##### How does it effect how quickly the network plateaus?\n",
    "**Ans:** With each increase in epoch, loss is decreasing by almost 12% so to achieve a plateaus we need to increase the number of epochs."
   ]
  },
  {
   "cell_type": "markdown",
   "metadata": {},
   "source": [
    "### Part C: Cost Function"
   ]
  },
  {
   "cell_type": "markdown",
   "metadata": {},
   "source": [
    "### Using Squared_Hinge"
   ]
  },
  {
   "cell_type": "code",
   "execution_count": 85,
   "metadata": {},
   "outputs": [
    {
     "name": "stderr",
     "output_type": "stream",
     "text": [
      "C:\\Users\\achar\\Anaconda3\\lib\\site-packages\\ipykernel_launcher.py:3: UserWarning: Update your `Conv2D` call to the Keras 2 API: `Conv2D(64, (3, 3), input_shape=(32, 32, 3..., activation=\"relu\")`\n",
      "  This is separate from the ipykernel package so we can avoid doing imports until\n",
      "C:\\Users\\achar\\Anaconda3\\lib\\site-packages\\ipykernel_launcher.py:5: UserWarning: Update your `Conv2D` call to the Keras 2 API: `Conv2D(64, (3, 3), input_shape=(15, 15, 3..., activation=\"relu\")`\n",
      "  \"\"\"\n",
      "C:\\Users\\achar\\Anaconda3\\lib\\site-packages\\ipykernel_launcher.py:8: UserWarning: Update your `Dense` call to the Keras 2 API: `Dense(activation=\"relu\", units=128)`\n",
      "  \n",
      "C:\\Users\\achar\\Anaconda3\\lib\\site-packages\\ipykernel_launcher.py:9: UserWarning: Update your `Dense` call to the Keras 2 API: `Dense(activation=\"relu\", units=128)`\n",
      "  if __name__ == '__main__':\n",
      "C:\\Users\\achar\\Anaconda3\\lib\\site-packages\\ipykernel_launcher.py:10: UserWarning: Update your `Dense` call to the Keras 2 API: `Dense(activation=\"relu\", units=128)`\n",
      "  # Remove the CWD from sys.path while we load stuff.\n",
      "C:\\Users\\achar\\Anaconda3\\lib\\site-packages\\ipykernel_launcher.py:11: UserWarning: Update your `Dense` call to the Keras 2 API: `Dense(activation=\"softmax\", units=3)`\n",
      "  # This is added back by InteractiveShellApp.init_path()\n",
      "C:\\Users\\achar\\Anaconda3\\lib\\site-packages\\ipykernel_launcher.py:12: UserWarning: Update your `PReLU` call to the Keras 2 API: `PReLU(weights=None, alpha_initializer=\"one\")`\n",
      "  if sys.path[0] == '':\n",
      "C:\\Users\\achar\\Anaconda3\\lib\\site-packages\\ipykernel_launcher.py:17: UserWarning: The `nb_epoch` argument in `fit` has been renamed `epochs`.\n"
     ]
    },
    {
     "name": "stdout",
     "output_type": "stream",
     "text": [
      "Epoch 1/10\n",
      "19906/19906 [==============================] - 49s 2ms/step - loss: 0.7623 - acc: 0.6193\n",
      "Epoch 2/10\n",
      "19906/19906 [==============================] - 48s 2ms/step - loss: 0.7478 - acc: 0.6775\n",
      "Epoch 3/10\n",
      "19906/19906 [==============================] - 49s 2ms/step - loss: 0.7421 - acc: 0.7009\n",
      "Epoch 4/10\n",
      "19906/19906 [==============================] - 49s 2ms/step - loss: 0.7383 - acc: 0.7186\n",
      "Epoch 5/10\n",
      "19906/19906 [==============================] - 50s 2ms/step - loss: 0.7339 - acc: 0.7366\n",
      "Epoch 6/10\n",
      "19906/19906 [==============================] - 50s 2ms/step - loss: 0.7297 - acc: 0.7525\n",
      "Epoch 7/10\n",
      "19906/19906 [==============================] - 49s 2ms/step - loss: 0.7255 - acc: 0.7761\n",
      "Epoch 8/10\n",
      "19906/19906 [==============================] - 47s 2ms/step - loss: 0.7217 - acc: 0.7916\n",
      "Epoch 9/10\n",
      "19906/19906 [==============================] - 46s 2ms/step - loss: 0.7184 - acc: 0.8041\n",
      "Epoch 10/10\n",
      "19906/19906 [==============================] - 47s 2ms/step - loss: 0.7148 - acc: 0.8197\n"
     ]
    },
    {
     "data": {
      "text/plain": [
       "<keras.callbacks.History at 0x2b488dfb5f8>"
      ]
     },
     "execution_count": 85,
     "metadata": {},
     "output_type": "execute_result"
    }
   ],
   "source": [
    "classifier_3 = Sequential()\n",
    "\n",
    "classifier_3.add(Convolution2D(64,3,3,input_shape = (32,32,3), activation = 'relu'))\n",
    "classifier_3.add(MaxPooling2D(pool_size = (2,2))) #Applying Max Pooling to the convlved matrix\n",
    "classifier_3.add(Convolution2D(64,3,3,input_shape = (15,15,3), activation = 'relu')) #Adding the convolution layer\n",
    "classifier_3.add(MaxPooling2D(pool_size = (2,2))) #Applying Max Pooling to the convlved matrix\n",
    "classifier_3.add(Flatten()) #Flattening the matrix\n",
    "classifier_3.add(Dense(output_dim = 128, activation = 'relu'))\n",
    "classifier_3.add(Dense(output_dim = 128, activation = 'relu'))\n",
    "classifier_3.add(Dense(output_dim = 128, activation = 'relu'))\n",
    "classifier_3.add(Dense(output_dim = 3, activation = 'softmax'))\n",
    "act = keras.layers.advanced_activations.PReLU(init='one', weights=None)\n",
    "classifier_3.add(act)\n",
    "classifier_3.compile(optimizer = 'adam',loss = 'squared_hinge', metrics = ['accuracy'])\n",
    "epochs = 10\n",
    "batch_size = 20 #As the size of images is small so we can afford small batch size for better performance\n",
    "classifier_3.fit(train_x, train_y, nb_epoch=epochs, batch_size=batch_size)"
   ]
  },
  {
   "cell_type": "code",
   "execution_count": 86,
   "metadata": {},
   "outputs": [
    {
     "name": "stdout",
     "output_type": "stream",
     "text": [
      "19906/19906 [==============================] - 14s 689us/step\n"
     ]
    },
    {
     "data": {
      "text/plain": [
       "[0.7079131645760105, 0.8458756154761846]"
      ]
     },
     "execution_count": 86,
     "metadata": {},
     "output_type": "execute_result"
    }
   ],
   "source": [
    "score_3 = classifier_3.evaluate(train_x, train_y, batch_size=128)\n",
    "score_3"
   ]
  },
  {
   "cell_type": "code",
   "execution_count": 109,
   "metadata": {},
   "outputs": [
    {
     "name": "stdout",
     "output_type": "stream",
     "text": [
      "Accuracy:  84.58756154761846\n"
     ]
    }
   ],
   "source": [
    "print(\"Accuracy: \", (score_3[1])*100)"
   ]
  },
  {
   "cell_type": "markdown",
   "metadata": {},
   "source": [
    "### Using Hinge"
   ]
  },
  {
   "cell_type": "code",
   "execution_count": 87,
   "metadata": {},
   "outputs": [
    {
     "name": "stderr",
     "output_type": "stream",
     "text": [
      "C:\\Users\\achar\\Anaconda3\\lib\\site-packages\\ipykernel_launcher.py:3: UserWarning: Update your `Conv2D` call to the Keras 2 API: `Conv2D(64, (3, 3), input_shape=(32, 32, 3..., activation=\"relu\")`\n",
      "  This is separate from the ipykernel package so we can avoid doing imports until\n",
      "C:\\Users\\achar\\Anaconda3\\lib\\site-packages\\ipykernel_launcher.py:5: UserWarning: Update your `Conv2D` call to the Keras 2 API: `Conv2D(64, (3, 3), input_shape=(15, 15, 3..., activation=\"relu\")`\n",
      "  \"\"\"\n",
      "C:\\Users\\achar\\Anaconda3\\lib\\site-packages\\ipykernel_launcher.py:8: UserWarning: Update your `Dense` call to the Keras 2 API: `Dense(activation=\"relu\", units=128)`\n",
      "  \n",
      "C:\\Users\\achar\\Anaconda3\\lib\\site-packages\\ipykernel_launcher.py:9: UserWarning: Update your `Dense` call to the Keras 2 API: `Dense(activation=\"relu\", units=128)`\n",
      "  if __name__ == '__main__':\n",
      "C:\\Users\\achar\\Anaconda3\\lib\\site-packages\\ipykernel_launcher.py:10: UserWarning: Update your `Dense` call to the Keras 2 API: `Dense(activation=\"relu\", units=128)`\n",
      "  # Remove the CWD from sys.path while we load stuff.\n",
      "C:\\Users\\achar\\Anaconda3\\lib\\site-packages\\ipykernel_launcher.py:11: UserWarning: Update your `Dense` call to the Keras 2 API: `Dense(activation=\"softmax\", units=3)`\n",
      "  # This is added back by InteractiveShellApp.init_path()\n",
      "C:\\Users\\achar\\Anaconda3\\lib\\site-packages\\ipykernel_launcher.py:12: UserWarning: Update your `PReLU` call to the Keras 2 API: `PReLU(weights=None, alpha_initializer=\"one\")`\n",
      "  if sys.path[0] == '':\n",
      "C:\\Users\\achar\\Anaconda3\\lib\\site-packages\\ipykernel_launcher.py:17: UserWarning: The `nb_epoch` argument in `fit` has been renamed `epochs`.\n"
     ]
    },
    {
     "name": "stdout",
     "output_type": "stream",
     "text": [
      "Epoch 1/10\n",
      "19906/19906 [==============================] - 47s 2ms/step - loss: 0.8194 - acc: 0.5428\n",
      "Epoch 2/10\n",
      "19906/19906 [==============================] - 48s 2ms/step - loss: 0.8191 - acc: 0.5428\n",
      "Epoch 3/10\n",
      "19906/19906 [==============================] - 47s 2ms/step - loss: 0.8191 - acc: 0.5428\n",
      "Epoch 4/10\n",
      "19906/19906 [==============================] - 47s 2ms/step - loss: 0.8191 - acc: 0.5428\n",
      "Epoch 5/10\n",
      "19906/19906 [==============================] - 47s 2ms/step - loss: 0.8191 - acc: 0.5428\n",
      "Epoch 6/10\n",
      "19906/19906 [==============================] - 47s 2ms/step - loss: 0.8191 - acc: 0.5428\n",
      "Epoch 7/10\n",
      "19906/19906 [==============================] - 49s 2ms/step - loss: 0.8191 - acc: 0.5428\n",
      "Epoch 8/10\n",
      "19906/19906 [==============================] - 47s 2ms/step - loss: 0.8191 - acc: 0.5428\n",
      "Epoch 9/10\n",
      "19906/19906 [==============================] - 48s 2ms/step - loss: 0.8191 - acc: 0.5428\n",
      "Epoch 10/10\n",
      "19906/19906 [==============================] - 49s 2ms/step - loss: 0.8191 - acc: 0.5428\n"
     ]
    },
    {
     "data": {
      "text/plain": [
       "<keras.callbacks.History at 0x2b4899c8f60>"
      ]
     },
     "execution_count": 87,
     "metadata": {},
     "output_type": "execute_result"
    }
   ],
   "source": [
    "classifier_4 = Sequential()\n",
    "\n",
    "classifier_4.add(Convolution2D(64,3,3,input_shape = (32,32,3), activation = 'relu'))\n",
    "classifier_4.add(MaxPooling2D(pool_size = (2,2))) #Applying Max Pooling to the convlved matrix\n",
    "classifier_4.add(Convolution2D(64,3,3,input_shape = (15,15,3), activation = 'relu')) #Adding the convolution layer\n",
    "classifier_4.add(MaxPooling2D(pool_size = (2,2))) #Applying Max Pooling to the convlved matrix\n",
    "classifier_4.add(Flatten()) #Flattening the matrix\n",
    "classifier_4.add(Dense(output_dim = 128, activation = 'relu'))\n",
    "classifier_4.add(Dense(output_dim = 128, activation = 'relu'))\n",
    "classifier_4.add(Dense(output_dim = 128, activation = 'relu'))\n",
    "classifier_4.add(Dense(output_dim = 3, activation = 'softmax'))\n",
    "act = keras.layers.advanced_activations.PReLU(init='one', weights=None)\n",
    "classifier_4.add(act)\n",
    "classifier_4.compile(optimizer = 'adam',loss = 'hinge', metrics = ['accuracy'])\n",
    "epochs = 10\n",
    "batch_size = 20 #As the size of images is small so we can afford small batch size for better performance\n",
    "classifier_4.fit(train_x, train_y, nb_epoch=epochs, batch_size=batch_size)"
   ]
  },
  {
   "cell_type": "code",
   "execution_count": 88,
   "metadata": {},
   "outputs": [
    {
     "name": "stdout",
     "output_type": "stream",
     "text": [
      "19906/19906 [==============================] - 13s 673us/step\n"
     ]
    },
    {
     "data": {
      "text/plain": [
       "[0.8190829288261231, 0.5427509293320981]"
      ]
     },
     "execution_count": 88,
     "metadata": {},
     "output_type": "execute_result"
    }
   ],
   "source": [
    "score_4 = classifier_4.evaluate(train_x, train_y, batch_size=128)\n",
    "score_4"
   ]
  },
  {
   "cell_type": "code",
   "execution_count": 110,
   "metadata": {},
   "outputs": [
    {
     "name": "stdout",
     "output_type": "stream",
     "text": [
      "Accuracy:  54.27509293320981\n"
     ]
    }
   ],
   "source": [
    "print(\"Accuracy: \", (score_4[1])*100)"
   ]
  },
  {
   "cell_type": "markdown",
   "metadata": {},
   "source": [
    "##### How does it effect the accuracy?\n",
    "**Ans:** As we can see, I have used 2 cost functions named Squared_Hinge and Hinge, the accuracy of each is 84.58 and 54.27 respectively. Squared_Hinge is better than Hinge.\n",
    "\n",
    "##### How does it effect how quickly the network plateaus?\n",
    "**Ans:** For Squared_Hinge, the loss is not reducing much so the network plateaus is acheivable if we increase epochs. For Hinge the network plateau is acheived at the second epoch itself since the loss and accuracy remains same after epoch 2."
   ]
  },
  {
   "cell_type": "markdown",
   "metadata": {},
   "source": [
    "### Part D: Epochs"
   ]
  },
  {
   "cell_type": "markdown",
   "metadata": {},
   "source": [
    "### Using Epochs = 20"
   ]
  },
  {
   "cell_type": "code",
   "execution_count": 89,
   "metadata": {},
   "outputs": [
    {
     "name": "stderr",
     "output_type": "stream",
     "text": [
      "C:\\Users\\achar\\Anaconda3\\lib\\site-packages\\ipykernel_launcher.py:3: UserWarning: Update your `Conv2D` call to the Keras 2 API: `Conv2D(64, (3, 3), input_shape=(32, 32, 3..., activation=\"relu\")`\n",
      "  This is separate from the ipykernel package so we can avoid doing imports until\n",
      "C:\\Users\\achar\\Anaconda3\\lib\\site-packages\\ipykernel_launcher.py:5: UserWarning: Update your `Conv2D` call to the Keras 2 API: `Conv2D(64, (3, 3), input_shape=(15, 15, 3..., activation=\"relu\")`\n",
      "  \"\"\"\n",
      "C:\\Users\\achar\\Anaconda3\\lib\\site-packages\\ipykernel_launcher.py:8: UserWarning: Update your `Dense` call to the Keras 2 API: `Dense(activation=\"relu\", units=128)`\n",
      "  \n",
      "C:\\Users\\achar\\Anaconda3\\lib\\site-packages\\ipykernel_launcher.py:9: UserWarning: Update your `Dense` call to the Keras 2 API: `Dense(activation=\"relu\", units=128)`\n",
      "  if __name__ == '__main__':\n",
      "C:\\Users\\achar\\Anaconda3\\lib\\site-packages\\ipykernel_launcher.py:10: UserWarning: Update your `Dense` call to the Keras 2 API: `Dense(activation=\"relu\", units=128)`\n",
      "  # Remove the CWD from sys.path while we load stuff.\n",
      "C:\\Users\\achar\\Anaconda3\\lib\\site-packages\\ipykernel_launcher.py:11: UserWarning: Update your `Dense` call to the Keras 2 API: `Dense(activation=\"softmax\", units=3)`\n",
      "  # This is added back by InteractiveShellApp.init_path()\n",
      "C:\\Users\\achar\\Anaconda3\\lib\\site-packages\\ipykernel_launcher.py:12: UserWarning: Update your `PReLU` call to the Keras 2 API: `PReLU(weights=None, alpha_initializer=\"one\")`\n",
      "  if sys.path[0] == '':\n",
      "C:\\Users\\achar\\Anaconda3\\lib\\site-packages\\ipykernel_launcher.py:17: UserWarning: The `nb_epoch` argument in `fit` has been renamed `epochs`.\n"
     ]
    },
    {
     "name": "stdout",
     "output_type": "stream",
     "text": [
      "Epoch 1/20\n",
      "19906/19906 [==============================] - 49s 2ms/step - loss: 0.8193 - acc: 0.6330\n",
      "Epoch 2/20\n",
      "19906/19906 [==============================] - 50s 2ms/step - loss: 0.7125 - acc: 0.6903\n",
      "Epoch 3/20\n",
      "19906/19906 [==============================] - 49s 2ms/step - loss: 0.6497 - acc: 0.7255\n",
      "Epoch 4/20\n",
      "19906/19906 [==============================] - 48s 2ms/step - loss: 0.5983 - acc: 0.7468\n",
      "Epoch 5/20\n",
      "19906/19906 [==============================] - 48s 2ms/step - loss: 0.5402 - acc: 0.7743\n",
      "Epoch 6/20\n",
      "19906/19906 [==============================] - 48s 2ms/step - loss: 0.4890 - acc: 0.7989\n",
      "Epoch 7/20\n",
      "19906/19906 [==============================] - 50s 2ms/step - loss: 0.4319 - acc: 0.8233\n",
      "Epoch 8/20\n",
      "19906/19906 [==============================] - 48s 2ms/step - loss: 0.3788 - acc: 0.8460\n",
      "Epoch 9/20\n",
      "19906/19906 [==============================] - 48s 2ms/step - loss: 0.3238 - acc: 0.8714\n",
      "Epoch 10/20\n",
      "19906/19906 [==============================] - 49s 2ms/step - loss: 0.2781 - acc: 0.8927\n",
      "Epoch 11/20\n",
      "19906/19906 [==============================] - 49s 2ms/step - loss: 0.2361 - acc: 0.9087\n",
      "Epoch 12/20\n",
      "19906/19906 [==============================] - 48s 2ms/step - loss: 0.2019 - acc: 0.9219\n",
      "Epoch 13/20\n",
      "19906/19906 [==============================] - 48s 2ms/step - loss: 0.1681 - acc: 0.9373\n",
      "Epoch 14/20\n",
      "19906/19906 [==============================] - 51s 3ms/step - loss: 0.1465 - acc: 0.9440\n",
      "Epoch 15/20\n",
      "19906/19906 [==============================] - 50s 2ms/step - loss: 0.1310 - acc: 0.9520\n",
      "Epoch 16/20\n",
      "19906/19906 [==============================] - 48s 2ms/step - loss: 0.1194 - acc: 0.9567\n",
      "Epoch 17/20\n",
      "19906/19906 [==============================] - 47s 2ms/step - loss: 0.1040 - acc: 0.9612\n",
      "Epoch 18/20\n",
      "19906/19906 [==============================] - 46s 2ms/step - loss: 0.0939 - acc: 0.9650\n",
      "Epoch 19/20\n",
      "19906/19906 [==============================] - 47s 2ms/step - loss: 0.0861 - acc: 0.9698\n",
      "Epoch 20/20\n",
      "19906/19906 [==============================] - 46s 2ms/step - loss: 0.0793 - acc: 0.9724\n"
     ]
    },
    {
     "data": {
      "text/plain": [
       "<keras.callbacks.History at 0x2b48a5cc2b0>"
      ]
     },
     "execution_count": 89,
     "metadata": {},
     "output_type": "execute_result"
    }
   ],
   "source": [
    "classifier_5 = Sequential()\n",
    "\n",
    "classifier_5.add(Convolution2D(64,3,3,input_shape = (32,32,3), activation = 'relu'))\n",
    "classifier_5.add(MaxPooling2D(pool_size = (2,2))) #Applying Max Pooling to the convlved matrix\n",
    "classifier_5.add(Convolution2D(64,3,3,input_shape = (15,15,3), activation = 'relu')) #Adding the convolution layer\n",
    "classifier_5.add(MaxPooling2D(pool_size = (2,2))) #Applying Max Pooling to the convlved matrix\n",
    "classifier_5.add(Flatten()) #Flattening the matrix\n",
    "classifier_5.add(Dense(output_dim = 128, activation = 'relu'))\n",
    "classifier_5.add(Dense(output_dim = 128, activation = 'relu'))\n",
    "classifier_5.add(Dense(output_dim = 128, activation = 'relu'))\n",
    "classifier_5.add(Dense(output_dim = 3, activation = 'softmax'))\n",
    "act = keras.layers.advanced_activations.PReLU(init='one', weights=None)\n",
    "classifier_5.add(act)\n",
    "classifier_5.compile(optimizer = 'adam',loss = 'categorical_crossentropy', metrics = ['accuracy'])\n",
    "epochs = 20\n",
    "batch_size = 20 #As the size of images is small so we can afford small batch size for better performance\n",
    "classifier_5.fit(train_x, train_y, nb_epoch=epochs, batch_size=batch_size)"
   ]
  },
  {
   "cell_type": "code",
   "execution_count": 91,
   "metadata": {},
   "outputs": [
    {
     "name": "stdout",
     "output_type": "stream",
     "text": [
      "19906/19906 [==============================] - 17s 852us/step\n"
     ]
    },
    {
     "data": {
      "text/plain": [
       "[0.061956375702208015, 0.9790013061388526]"
      ]
     },
     "execution_count": 91,
     "metadata": {},
     "output_type": "execute_result"
    }
   ],
   "source": [
    "score_5 = classifier_5.evaluate(train_x, train_y, batch_size=128)\n",
    "score_5"
   ]
  },
  {
   "cell_type": "code",
   "execution_count": 111,
   "metadata": {},
   "outputs": [
    {
     "name": "stdout",
     "output_type": "stream",
     "text": [
      "Accuracy:  97.90013061388527\n"
     ]
    }
   ],
   "source": [
    "print(\"Accuracy: \", (score_5[1])*100)"
   ]
  },
  {
   "cell_type": "markdown",
   "metadata": {},
   "source": [
    "### Using Epoch = 50"
   ]
  },
  {
   "cell_type": "code",
   "execution_count": 90,
   "metadata": {},
   "outputs": [
    {
     "name": "stderr",
     "output_type": "stream",
     "text": [
      "C:\\Users\\achar\\Anaconda3\\lib\\site-packages\\ipykernel_launcher.py:3: UserWarning: Update your `Conv2D` call to the Keras 2 API: `Conv2D(64, (3, 3), input_shape=(32, 32, 3..., activation=\"relu\")`\n",
      "  This is separate from the ipykernel package so we can avoid doing imports until\n",
      "C:\\Users\\achar\\Anaconda3\\lib\\site-packages\\ipykernel_launcher.py:5: UserWarning: Update your `Conv2D` call to the Keras 2 API: `Conv2D(64, (3, 3), input_shape=(15, 15, 3..., activation=\"relu\")`\n",
      "  \"\"\"\n",
      "C:\\Users\\achar\\Anaconda3\\lib\\site-packages\\ipykernel_launcher.py:8: UserWarning: Update your `Dense` call to the Keras 2 API: `Dense(activation=\"relu\", units=128)`\n",
      "  \n",
      "C:\\Users\\achar\\Anaconda3\\lib\\site-packages\\ipykernel_launcher.py:9: UserWarning: Update your `Dense` call to the Keras 2 API: `Dense(activation=\"relu\", units=128)`\n",
      "  if __name__ == '__main__':\n",
      "C:\\Users\\achar\\Anaconda3\\lib\\site-packages\\ipykernel_launcher.py:10: UserWarning: Update your `Dense` call to the Keras 2 API: `Dense(activation=\"relu\", units=128)`\n",
      "  # Remove the CWD from sys.path while we load stuff.\n",
      "C:\\Users\\achar\\Anaconda3\\lib\\site-packages\\ipykernel_launcher.py:11: UserWarning: Update your `Dense` call to the Keras 2 API: `Dense(activation=\"softmax\", units=3)`\n",
      "  # This is added back by InteractiveShellApp.init_path()\n",
      "C:\\Users\\achar\\Anaconda3\\lib\\site-packages\\ipykernel_launcher.py:12: UserWarning: Update your `PReLU` call to the Keras 2 API: `PReLU(weights=None, alpha_initializer=\"one\")`\n",
      "  if sys.path[0] == '':\n",
      "C:\\Users\\achar\\Anaconda3\\lib\\site-packages\\ipykernel_launcher.py:17: UserWarning: The `nb_epoch` argument in `fit` has been renamed `epochs`.\n"
     ]
    },
    {
     "name": "stdout",
     "output_type": "stream",
     "text": [
      "Epoch 1/50\n",
      "19906/19906 [==============================] - 47s 2ms/step - loss: 0.8185 - acc: 0.6294\n",
      "Epoch 2/50\n",
      "19906/19906 [==============================] - 53s 3ms/step - loss: 0.7212 - acc: 0.6866\n",
      "Epoch 3/50\n",
      "19906/19906 [==============================] - 61s 3ms/step - loss: 0.6643 - acc: 0.7129\n",
      "Epoch 4/50\n",
      "19906/19906 [==============================] - 60s 3ms/step - loss: 0.6053 - acc: 0.7418\n",
      "Epoch 5/50\n",
      "19906/19906 [==============================] - 61s 3ms/step - loss: 0.5522 - acc: 0.7715\n",
      "Epoch 6/50\n",
      "19906/19906 [==============================] - 61s 3ms/step - loss: 0.4980 - acc: 0.7920\n",
      "Epoch 7/50\n",
      "19906/19906 [==============================] - 61s 3ms/step - loss: 0.4480 - acc: 0.8164\n",
      "Epoch 8/50\n",
      "19906/19906 [==============================] - 61s 3ms/step - loss: 0.3963 - acc: 0.8394\n",
      "Epoch 9/50\n",
      "19906/19906 [==============================] - 61s 3ms/step - loss: 0.3526 - acc: 0.8579\n",
      "Epoch 10/50\n",
      "19906/19906 [==============================] - 61s 3ms/step - loss: 0.3082 - acc: 0.8789\n",
      "Epoch 11/50\n",
      "19906/19906 [==============================] - 63s 3ms/step - loss: 0.2700 - acc: 0.8947\n",
      "Epoch 12/50\n",
      "19906/19906 [==============================] - 61s 3ms/step - loss: 0.2351 - acc: 0.9086\n",
      "Epoch 13/50\n",
      "19906/19906 [==============================] - 62s 3ms/step - loss: 0.2027 - acc: 0.9206\n",
      "Epoch 14/50\n",
      "19906/19906 [==============================] - 62s 3ms/step - loss: 0.1814 - acc: 0.9319\n",
      "Epoch 15/50\n",
      "19906/19906 [==============================] - 62s 3ms/step - loss: 0.1630 - acc: 0.9379\n",
      "Epoch 16/50\n",
      "19906/19906 [==============================] - 61s 3ms/step - loss: 0.1360 - acc: 0.9481\n",
      "Epoch 17/50\n",
      "19906/19906 [==============================] - 63s 3ms/step - loss: 0.1308 - acc: 0.9502\n",
      "Epoch 18/50\n",
      "19906/19906 [==============================] - 63s 3ms/step - loss: 0.1090 - acc: 0.9594\n",
      "Epoch 19/50\n",
      "19906/19906 [==============================] - 64s 3ms/step - loss: 0.1103 - acc: 0.9591\n",
      "Epoch 20/50\n",
      "19906/19906 [==============================] - 60s 3ms/step - loss: 0.0993 - acc: 0.9630\n",
      "Epoch 21/50\n",
      "19906/19906 [==============================] - 63s 3ms/step - loss: 0.0855 - acc: 0.9684\n",
      "Epoch 22/50\n",
      "19906/19906 [==============================] - 63s 3ms/step - loss: 0.0865 - acc: 0.9700\n",
      "Epoch 23/50\n",
      "19906/19906 [==============================] - 62s 3ms/step - loss: 0.0846 - acc: 0.9704\n",
      "Epoch 24/50\n",
      "19906/19906 [==============================] - 60s 3ms/step - loss: 0.0654 - acc: 0.9775\n",
      "Epoch 25/50\n",
      "19906/19906 [==============================] - 63s 3ms/step - loss: 0.0766 - acc: 0.9737\n",
      "Epoch 26/50\n",
      "19906/19906 [==============================] - 61s 3ms/step - loss: 0.0612 - acc: 0.9780\n",
      "Epoch 27/50\n",
      "19906/19906 [==============================] - 59s 3ms/step - loss: 0.0653 - acc: 0.9771\n",
      "Epoch 28/50\n",
      "19906/19906 [==============================] - 58s 3ms/step - loss: 0.0607 - acc: 0.9791\n",
      "Epoch 29/50\n",
      "19906/19906 [==============================] - 61s 3ms/step - loss: 0.0593 - acc: 0.9796\n",
      "Epoch 30/50\n",
      "19906/19906 [==============================] - 61s 3ms/step - loss: 0.0583 - acc: 0.9791\n",
      "Epoch 31/50\n",
      "19906/19906 [==============================] - 61s 3ms/step - loss: 0.0493 - acc: 0.9823\n",
      "Epoch 32/50\n",
      "19906/19906 [==============================] - 62s 3ms/step - loss: 0.0490 - acc: 0.9833\n",
      "Epoch 33/50\n",
      "19906/19906 [==============================] - 62s 3ms/step - loss: 0.0505 - acc: 0.9819\n",
      "Epoch 34/50\n",
      "19906/19906 [==============================] - 60s 3ms/step - loss: 0.0461 - acc: 0.9843\n",
      "Epoch 35/50\n",
      "19906/19906 [==============================] - 61s 3ms/step - loss: 0.0460 - acc: 0.9846\n",
      "Epoch 36/50\n",
      "19906/19906 [==============================] - 60s 3ms/step - loss: 0.0434 - acc: 0.9859\n",
      "Epoch 37/50\n",
      "19906/19906 [==============================] - 61s 3ms/step - loss: 0.0385 - acc: 0.9863\n",
      "Epoch 38/50\n",
      "19906/19906 [==============================] - 59s 3ms/step - loss: 0.0447 - acc: 0.9846\n",
      "Epoch 39/50\n",
      "19906/19906 [==============================] - 61s 3ms/step - loss: 0.0495 - acc: 0.9853\n",
      "Epoch 40/50\n",
      "19906/19906 [==============================] - 59s 3ms/step - loss: 0.0412 - acc: 0.9862\n",
      "Epoch 41/50\n",
      "19906/19906 [==============================] - 62s 3ms/step - loss: 0.0359 - acc: 0.9869\n",
      "Epoch 42/50\n",
      "19906/19906 [==============================] - 59s 3ms/step - loss: 0.0383 - acc: 0.9878\n",
      "Epoch 43/50\n",
      "19906/19906 [==============================] - 61s 3ms/step - loss: 0.0386 - acc: 0.9861\n",
      "Epoch 44/50\n",
      "19906/19906 [==============================] - 62s 3ms/step - loss: 0.0336 - acc: 0.9886\n",
      "Epoch 45/50\n",
      "19906/19906 [==============================] - 62s 3ms/step - loss: 0.0367 - acc: 0.9873\n",
      "Epoch 46/50\n",
      "19906/19906 [==============================] - 62s 3ms/step - loss: 0.0408 - acc: 0.9865\n",
      "Epoch 47/50\n",
      "19906/19906 [==============================] - 64s 3ms/step - loss: 0.0349 - acc: 0.9883\n",
      "Epoch 48/50\n",
      "19906/19906 [==============================] - 65s 3ms/step - loss: 0.0277 - acc: 0.9906\n",
      "Epoch 49/50\n",
      "19906/19906 [==============================] - 61s 3ms/step - loss: 0.0389 - acc: 0.9871\n",
      "Epoch 50/50\n",
      "19906/19906 [==============================] - 62s 3ms/step - loss: 0.0351 - acc: 0.9904\n"
     ]
    },
    {
     "data": {
      "text/plain": [
       "<keras.callbacks.History at 0x2b48b26ac88>"
      ]
     },
     "execution_count": 90,
     "metadata": {},
     "output_type": "execute_result"
    }
   ],
   "source": [
    "classifier_6 = Sequential()\n",
    "\n",
    "classifier_6.add(Convolution2D(64,3,3,input_shape = (32,32,3), activation = 'relu'))\n",
    "classifier_6.add(MaxPooling2D(pool_size = (2,2))) #Applying Max Pooling to the convlved matrix\n",
    "classifier_6.add(Convolution2D(64,3,3,input_shape = (15,15,3), activation = 'relu')) #Adding the convolution layer\n",
    "classifier_6.add(MaxPooling2D(pool_size = (2,2))) #Applying Max Pooling to the convlved matrix\n",
    "classifier_6.add(Flatten()) #Flattening the matrix\n",
    "classifier_6.add(Dense(output_dim = 128, activation = 'relu'))\n",
    "classifier_6.add(Dense(output_dim = 128, activation = 'relu'))\n",
    "classifier_6.add(Dense(output_dim = 128, activation = 'relu'))\n",
    "classifier_6.add(Dense(output_dim = 3, activation = 'softmax'))\n",
    "act = keras.layers.advanced_activations.PReLU(init='one', weights=None)\n",
    "classifier_6.add(act)\n",
    "classifier_6.compile(optimizer = 'adam',loss = 'categorical_crossentropy', metrics = ['accuracy'])\n",
    "epochs = 50\n",
    "batch_size = 20 #As the size of images is small so we can afford small batch size for better performance\n",
    "classifier_6.fit(train_x, train_y, nb_epoch=epochs, batch_size=batch_size)"
   ]
  },
  {
   "cell_type": "code",
   "execution_count": 92,
   "metadata": {},
   "outputs": [
    {
     "name": "stdout",
     "output_type": "stream",
     "text": [
      "19906/19906 [==============================] - 17s 873us/step\n"
     ]
    },
    {
     "data": {
      "text/plain": [
       "[0.016029941555547524, 0.9949763890284337]"
      ]
     },
     "execution_count": 92,
     "metadata": {},
     "output_type": "execute_result"
    }
   ],
   "source": [
    "score_6 = classifier_6.evaluate(train_x, train_y, batch_size=128)\n",
    "score_6"
   ]
  },
  {
   "cell_type": "code",
   "execution_count": 112,
   "metadata": {},
   "outputs": [
    {
     "name": "stdout",
     "output_type": "stream",
     "text": [
      "Accuracy:  99.49763890284336\n"
     ]
    }
   ],
   "source": [
    "print(\"Accuracy: \", (score_6[1])*100)"
   ]
  },
  {
   "cell_type": "markdown",
   "metadata": {},
   "source": [
    "##### How does it effect the accuracy?\n",
    "**Ans:** As we can see, I have used 2 epochs 20 and 50, the accuracy of each is 97% and 99% respectively. It is obvious that as the epochs increases accuracy increases.\n",
    "\n",
    "##### How does it effect how quickly the network plateaus?\n",
    "**Ans:** Network Plateau is almost acheived at epoch 40"
   ]
  },
  {
   "cell_type": "markdown",
   "metadata": {},
   "source": [
    "### Part E: Gradient Estimation"
   ]
  },
  {
   "cell_type": "markdown",
   "metadata": {},
   "source": [
    "### Using RMSProp"
   ]
  },
  {
   "cell_type": "code",
   "execution_count": 93,
   "metadata": {},
   "outputs": [
    {
     "name": "stderr",
     "output_type": "stream",
     "text": [
      "C:\\Users\\achar\\Anaconda3\\lib\\site-packages\\ipykernel_launcher.py:3: UserWarning: Update your `Conv2D` call to the Keras 2 API: `Conv2D(64, (3, 3), input_shape=(32, 32, 3..., activation=\"relu\")`\n",
      "  This is separate from the ipykernel package so we can avoid doing imports until\n",
      "C:\\Users\\achar\\Anaconda3\\lib\\site-packages\\ipykernel_launcher.py:5: UserWarning: Update your `Conv2D` call to the Keras 2 API: `Conv2D(64, (3, 3), input_shape=(15, 15, 3..., activation=\"relu\")`\n",
      "  \"\"\"\n",
      "C:\\Users\\achar\\Anaconda3\\lib\\site-packages\\ipykernel_launcher.py:8: UserWarning: Update your `Dense` call to the Keras 2 API: `Dense(activation=\"relu\", units=128)`\n",
      "  \n",
      "C:\\Users\\achar\\Anaconda3\\lib\\site-packages\\ipykernel_launcher.py:9: UserWarning: Update your `Dense` call to the Keras 2 API: `Dense(activation=\"relu\", units=128)`\n",
      "  if __name__ == '__main__':\n",
      "C:\\Users\\achar\\Anaconda3\\lib\\site-packages\\ipykernel_launcher.py:10: UserWarning: Update your `Dense` call to the Keras 2 API: `Dense(activation=\"relu\", units=128)`\n",
      "  # Remove the CWD from sys.path while we load stuff.\n",
      "C:\\Users\\achar\\Anaconda3\\lib\\site-packages\\ipykernel_launcher.py:11: UserWarning: Update your `Dense` call to the Keras 2 API: `Dense(activation=\"softmax\", units=3)`\n",
      "  # This is added back by InteractiveShellApp.init_path()\n",
      "C:\\Users\\achar\\Anaconda3\\lib\\site-packages\\ipykernel_launcher.py:12: UserWarning: Update your `PReLU` call to the Keras 2 API: `PReLU(weights=None, alpha_initializer=\"one\")`\n",
      "  if sys.path[0] == '':\n",
      "C:\\Users\\achar\\Anaconda3\\lib\\site-packages\\ipykernel_launcher.py:17: UserWarning: The `nb_epoch` argument in `fit` has been renamed `epochs`.\n"
     ]
    },
    {
     "name": "stdout",
     "output_type": "stream",
     "text": [
      "Epoch 1/30\n",
      "19906/19906 [==============================] - 61s 3ms/step - loss: 0.8223 - acc: 0.6312\n",
      "Epoch 2/30\n",
      "19906/19906 [==============================] - 59s 3ms/step - loss: 0.7089 - acc: 0.6951\n",
      "Epoch 3/30\n",
      "19906/19906 [==============================] - 60s 3ms/step - loss: 0.6513 - acc: 0.7283\n",
      "Epoch 4/30\n",
      "19906/19906 [==============================] - 59s 3ms/step - loss: 0.6062 - acc: 0.7489\n",
      "Epoch 5/30\n",
      "19906/19906 [==============================] - 59s 3ms/step - loss: 0.5729 - acc: 0.7692\n",
      "Epoch 6/30\n",
      "19906/19906 [==============================] - 60s 3ms/step - loss: 0.5374 - acc: 0.7860\n",
      "Epoch 7/30\n",
      "19906/19906 [==============================] - 59s 3ms/step - loss: 0.5041 - acc: 0.8005\n",
      "Epoch 8/30\n",
      "19906/19906 [==============================] - 62s 3ms/step - loss: 0.4922 - acc: 0.8073\n",
      "Epoch 9/30\n",
      "19906/19906 [==============================] - 61s 3ms/step - loss: 0.4715 - acc: 0.8221\n",
      "Epoch 10/30\n",
      "19906/19906 [==============================] - 61s 3ms/step - loss: 0.4705 - acc: 0.8274\n",
      "Epoch 11/30\n",
      "19906/19906 [==============================] - 59s 3ms/step - loss: 0.4467 - acc: 0.8297\n",
      "Epoch 12/30\n",
      "19906/19906 [==============================] - 63s 3ms/step - loss: 0.4516 - acc: 0.8314\n",
      "Epoch 13/30\n",
      "19906/19906 [==============================] - 67s 3ms/step - loss: 0.4519 - acc: 0.8338\n",
      "Epoch 14/30\n",
      "19906/19906 [==============================] - 68s 3ms/step - loss: 0.4460 - acc: 0.8411\n",
      "Epoch 15/30\n",
      "19906/19906 [==============================] - 69s 3ms/step - loss: 0.4451 - acc: 0.8410\n",
      "Epoch 16/30\n",
      "19906/19906 [==============================] - 68s 3ms/step - loss: 0.4306 - acc: 0.8465\n",
      "Epoch 17/30\n",
      "19906/19906 [==============================] - 69s 3ms/step - loss: 0.4327 - acc: 0.8458\n",
      "Epoch 18/30\n",
      "19906/19906 [==============================] - 67s 3ms/step - loss: 0.4390 - acc: 0.8460\n",
      "Epoch 19/30\n",
      "19906/19906 [==============================] - 69s 3ms/step - loss: 0.4488 - acc: 0.8443\n",
      "Epoch 20/30\n",
      "19906/19906 [==============================] - 68s 3ms/step - loss: 0.4299 - acc: 0.8482\n",
      "Epoch 21/30\n",
      "19906/19906 [==============================] - 64s 3ms/step - loss: 0.4329 - acc: 0.8510\n",
      "Epoch 22/30\n",
      "19906/19906 [==============================] - 63s 3ms/step - loss: 0.4503 - acc: 0.8458\n",
      "Epoch 23/30\n",
      "19906/19906 [==============================] - 64s 3ms/step - loss: 0.4171 - acc: 0.8543\n",
      "Epoch 24/30\n",
      "19906/19906 [==============================] - 65s 3ms/step - loss: 0.4037 - acc: 0.8574\n",
      "Epoch 25/30\n",
      "19906/19906 [==============================] - 65s 3ms/step - loss: 0.4340 - acc: 0.8563\n",
      "Epoch 26/30\n",
      "19906/19906 [==============================] - 65s 3ms/step - loss: 0.4233 - acc: 0.8561\n",
      "Epoch 27/30\n",
      "19906/19906 [==============================] - 65s 3ms/step - loss: 0.4245 - acc: 0.8512\n",
      "Epoch 28/30\n",
      "19906/19906 [==============================] - 64s 3ms/step - loss: 0.4200 - acc: 0.8572\n",
      "Epoch 29/30\n",
      "19906/19906 [==============================] - 64s 3ms/step - loss: 0.4201 - acc: 0.8573\n",
      "Epoch 30/30\n",
      "19906/19906 [==============================] - 64s 3ms/step - loss: 0.3980 - acc: 0.8659\n",
      "19906/19906 [==============================] - 18s 925us/step\n"
     ]
    },
    {
     "data": {
      "text/plain": [
       "[0.8190829288261231, 0.5427509293320981]"
      ]
     },
     "execution_count": 93,
     "metadata": {},
     "output_type": "execute_result"
    }
   ],
   "source": [
    "classifier_7 = Sequential()\n",
    "\n",
    "classifier_7.add(Convolution2D(64,3,3,input_shape = (32,32,3), activation = 'relu'))\n",
    "classifier_7.add(MaxPooling2D(pool_size = (2,2))) #Applying Max Pooling to the convlved matrix\n",
    "classifier_7.add(Convolution2D(64,3,3,input_shape = (15,15,3), activation = 'relu')) #Adding the convolution layer\n",
    "classifier_7.add(MaxPooling2D(pool_size = (2,2))) #Applying Max Pooling to the convlved matrix\n",
    "classifier_7.add(Flatten()) #Flattening the matrix\n",
    "classifier_7.add(Dense(output_dim = 128, activation = 'relu'))\n",
    "classifier_7.add(Dense(output_dim = 128, activation = 'relu'))\n",
    "classifier_7.add(Dense(output_dim = 128, activation = 'relu'))\n",
    "classifier_7.add(Dense(output_dim = 3, activation = 'softmax'))\n",
    "act = keras.layers.advanced_activations.PReLU(init='one', weights=None)\n",
    "classifier_7.add(act)\n",
    "classifier_7.compile(optimizer = 'RMSProp',loss = 'categorical_crossentropy', metrics = ['accuracy'])\n",
    "epochs = 30\n",
    "batch_size = 20 #As the size of images is small so we can afford small batch size for better performance\n",
    "classifier_7.fit(train_x, train_y, nb_epoch=epochs, batch_size=batch_size)\n",
    "\n",
    "score_7 = classifier_4.evaluate(train_x, train_y, batch_size=128)\n",
    "score_7"
   ]
  },
  {
   "cell_type": "code",
   "execution_count": 94,
   "metadata": {},
   "outputs": [
    {
     "name": "stdout",
     "output_type": "stream",
     "text": [
      "19906/19906 [==============================] - 19s 930us/step\n"
     ]
    },
    {
     "data": {
      "text/plain": [
       "[0.40898967486619353, 0.863357781603338]"
      ]
     },
     "execution_count": 94,
     "metadata": {},
     "output_type": "execute_result"
    }
   ],
   "source": [
    "score_7 = classifier_7.evaluate(train_x, train_y, batch_size=128)\n",
    "score_7"
   ]
  },
  {
   "cell_type": "code",
   "execution_count": 113,
   "metadata": {},
   "outputs": [
    {
     "name": "stdout",
     "output_type": "stream",
     "text": [
      "Accuracy:  86.3357781603338\n"
     ]
    }
   ],
   "source": [
    "print(\"Accuracy: \", (score_7[1])*100)"
   ]
  },
  {
   "cell_type": "markdown",
   "metadata": {},
   "source": [
    "### Using Stochastic Gradient Descent(SGD)"
   ]
  },
  {
   "cell_type": "code",
   "execution_count": 95,
   "metadata": {},
   "outputs": [
    {
     "name": "stderr",
     "output_type": "stream",
     "text": [
      "C:\\Users\\achar\\Anaconda3\\lib\\site-packages\\ipykernel_launcher.py:3: UserWarning: Update your `Conv2D` call to the Keras 2 API: `Conv2D(64, (3, 3), input_shape=(32, 32, 3..., activation=\"relu\")`\n",
      "  This is separate from the ipykernel package so we can avoid doing imports until\n",
      "C:\\Users\\achar\\Anaconda3\\lib\\site-packages\\ipykernel_launcher.py:5: UserWarning: Update your `Conv2D` call to the Keras 2 API: `Conv2D(64, (3, 3), input_shape=(15, 15, 3..., activation=\"relu\")`\n",
      "  \"\"\"\n",
      "C:\\Users\\achar\\Anaconda3\\lib\\site-packages\\ipykernel_launcher.py:8: UserWarning: Update your `Dense` call to the Keras 2 API: `Dense(activation=\"relu\", units=128)`\n",
      "  \n",
      "C:\\Users\\achar\\Anaconda3\\lib\\site-packages\\ipykernel_launcher.py:9: UserWarning: Update your `Dense` call to the Keras 2 API: `Dense(activation=\"relu\", units=128)`\n",
      "  if __name__ == '__main__':\n",
      "C:\\Users\\achar\\Anaconda3\\lib\\site-packages\\ipykernel_launcher.py:10: UserWarning: Update your `Dense` call to the Keras 2 API: `Dense(activation=\"relu\", units=128)`\n",
      "  # Remove the CWD from sys.path while we load stuff.\n",
      "C:\\Users\\achar\\Anaconda3\\lib\\site-packages\\ipykernel_launcher.py:11: UserWarning: Update your `Dense` call to the Keras 2 API: `Dense(activation=\"softmax\", units=3)`\n",
      "  # This is added back by InteractiveShellApp.init_path()\n",
      "C:\\Users\\achar\\Anaconda3\\lib\\site-packages\\ipykernel_launcher.py:17: UserWarning: The `nb_epoch` argument in `fit` has been renamed `epochs`.\n"
     ]
    },
    {
     "name": "stdout",
     "output_type": "stream",
     "text": [
      "Epoch 1/30\n",
      "19906/19906 [==============================] - 58s 3ms/step - loss: 0.9434 - acc: 0.5437\n",
      "Epoch 2/30\n",
      "19906/19906 [==============================] - 46s 2ms/step - loss: 0.9040 - acc: 0.5628\n",
      "Epoch 3/30\n",
      "19906/19906 [==============================] - 44s 2ms/step - loss: 0.8472 - acc: 0.6078\n",
      "Epoch 4/30\n",
      "19906/19906 [==============================] - 43s 2ms/step - loss: 0.7910 - acc: 0.6440\n",
      "Epoch 5/30\n",
      "19906/19906 [==============================] - 43s 2ms/step - loss: 0.7601 - acc: 0.6615\n",
      "Epoch 6/30\n",
      "19906/19906 [==============================] - 44s 2ms/step - loss: 0.7392 - acc: 0.6762\n",
      "Epoch 7/30\n",
      "19906/19906 [==============================] - 45s 2ms/step - loss: 0.7179 - acc: 0.6838\n",
      "Epoch 8/30\n",
      "19906/19906 [==============================] - 46s 2ms/step - loss: 0.6976 - acc: 0.6954\n",
      "Epoch 9/30\n",
      "19906/19906 [==============================] - 47s 2ms/step - loss: 0.6768 - acc: 0.7061\n",
      "Epoch 10/30\n",
      "19906/19906 [==============================] - 45s 2ms/step - loss: 0.6597 - acc: 0.7134\n",
      "Epoch 11/30\n",
      "19906/19906 [==============================] - 45s 2ms/step - loss: 0.6396 - acc: 0.7260\n",
      "Epoch 12/30\n",
      "19906/19906 [==============================] - 46s 2ms/step - loss: 0.6187 - acc: 0.7383\n",
      "Epoch 13/30\n",
      "19906/19906 [==============================] - 48s 2ms/step - loss: 0.6027 - acc: 0.7419\n",
      "Epoch 14/30\n",
      "19906/19906 [==============================] - 44s 2ms/step - loss: 0.5794 - acc: 0.7566\n",
      "Epoch 15/30\n",
      "19906/19906 [==============================] - 49s 2ms/step - loss: 0.5573 - acc: 0.7698\n",
      "Epoch 16/30\n",
      "19906/19906 [==============================] - 46s 2ms/step - loss: 0.5359 - acc: 0.7777\n",
      "Epoch 17/30\n",
      "19906/19906 [==============================] - 46s 2ms/step - loss: 0.5140 - acc: 0.7880\n",
      "Epoch 18/30\n",
      "19906/19906 [==============================] - 45s 2ms/step - loss: 0.4925 - acc: 0.7996\n",
      "Epoch 19/30\n",
      "19906/19906 [==============================] - 46s 2ms/step - loss: 0.4659 - acc: 0.8102\n",
      "Epoch 20/30\n",
      "19906/19906 [==============================] - 47s 2ms/step - loss: 0.4396 - acc: 0.8244\n",
      "Epoch 21/30\n",
      "19906/19906 [==============================] - 47s 2ms/step - loss: 0.4146 - acc: 0.8336\n",
      "Epoch 22/30\n",
      "19906/19906 [==============================] - 47s 2ms/step - loss: 0.3875 - acc: 0.8460\n",
      "Epoch 23/30\n",
      "19906/19906 [==============================] - 46s 2ms/step - loss: 0.3631 - acc: 0.8548\n",
      "Epoch 24/30\n",
      "19906/19906 [==============================] - 46s 2ms/step - loss: 0.3406 - acc: 0.8682\n",
      "Epoch 25/30\n",
      "19906/19906 [==============================] - 46s 2ms/step - loss: 0.3111 - acc: 0.8778\n",
      "Epoch 26/30\n",
      "19906/19906 [==============================] - 47s 2ms/step - loss: 0.2803 - acc: 0.8938\n",
      "Epoch 27/30\n",
      "19906/19906 [==============================] - 46s 2ms/step - loss: 0.2598 - acc: 0.8982\n",
      "Epoch 28/30\n",
      "19906/19906 [==============================] - 46s 2ms/step - loss: 0.2346 - acc: 0.9111\n",
      "Epoch 29/30\n",
      "19906/19906 [==============================] - 47s 2ms/step - loss: 0.2146 - acc: 0.9174\n",
      "Epoch 30/30\n",
      "19906/19906 [==============================] - 48s 2ms/step - loss: 0.1873 - acc: 0.9311\n",
      "19906/19906 [==============================] - 15s 747us/step\n"
     ]
    },
    {
     "data": {
      "text/plain": [
       "[0.1616879688020233, 0.9403697377076212]"
      ]
     },
     "execution_count": 95,
     "metadata": {},
     "output_type": "execute_result"
    }
   ],
   "source": [
    "classifier_8 = Sequential()\n",
    "\n",
    "classifier_8.add(Convolution2D(64,3,3,input_shape = (32,32,3), activation = 'relu'))\n",
    "classifier_8.add(MaxPooling2D(pool_size = (2,2))) #Applying Max Pooling to the convlved matrix\n",
    "classifier_8.add(Convolution2D(64,3,3,input_shape = (15,15,3), activation = 'relu')) #Adding the convolution layer\n",
    "classifier_8.add(MaxPooling2D(pool_size = (2,2))) #Applying Max Pooling to the convlved matrix\n",
    "classifier_8.add(Flatten()) #Flattening the matrix\n",
    "classifier_8.add(Dense(output_dim = 128, activation = 'relu'))\n",
    "classifier_8.add(Dense(output_dim = 128, activation = 'relu'))\n",
    "classifier_8.add(Dense(output_dim = 128, activation = 'relu'))\n",
    "classifier_8.add(Dense(output_dim = 3, activation = 'softmax'))\n",
    "# act = keras.layers.advanced_activations.PReLU(init='one', weights=None)\n",
    "# classifier_8.add(act)\n",
    "classifier_8.compile(optimizer = 'SGD',loss = 'categorical_crossentropy', metrics = ['accuracy'])\n",
    "epochs = 30\n",
    "batch_size = 20 #As the size of images is small so we can afford small batch size for better performance\n",
    "classifier_8.fit(train_x, train_y, nb_epoch=epochs, batch_size=batch_size)\n",
    "\n",
    "score_8 = classifier_8.evaluate(train_x, train_y, batch_size=128)\n",
    "score_8"
   ]
  },
  {
   "cell_type": "code",
   "execution_count": 114,
   "metadata": {},
   "outputs": [
    {
     "name": "stdout",
     "output_type": "stream",
     "text": [
      "Accuracy:  94.03697377076212\n"
     ]
    }
   ],
   "source": [
    "print(\"Accuracy: \", (score_8[1])*100)"
   ]
  },
  {
   "cell_type": "markdown",
   "metadata": {},
   "source": [
    "##### How does it effect the accuracy?\n",
    "**Ans:** As we can see, I have used 2 gradient estimators RMSProp and SGD, the accuracy of each is 86% and 94% respectively. SGD is providing better accuracy.\n",
    "\n",
    "##### How does it effect how quickly the network plateaus?\n",
    "**Ans:** Network Plateau is almost acheived at epoch 30 in RMSProp while in SGD it needs more epochs"
   ]
  },
  {
   "cell_type": "markdown",
   "metadata": {},
   "source": [
    "### Part F: Network Architechture"
   ]
  },
  {
   "cell_type": "markdown",
   "metadata": {},
   "source": [
    "### No of Layers"
   ]
  },
  {
   "cell_type": "code",
   "execution_count": 104,
   "metadata": {},
   "outputs": [
    {
     "name": "stderr",
     "output_type": "stream",
     "text": [
      "C:\\Users\\achar\\Anaconda3\\lib\\site-packages\\ipykernel_launcher.py:3: UserWarning: Update your `Conv2D` call to the Keras 2 API: `Conv2D(64, (3, 3), input_shape=(32, 32, 3..., activation=\"relu\")`\n",
      "  This is separate from the ipykernel package so we can avoid doing imports until\n",
      "C:\\Users\\achar\\Anaconda3\\lib\\site-packages\\ipykernel_launcher.py:5: UserWarning: Update your `Conv2D` call to the Keras 2 API: `Conv2D(64, (3, 3), input_shape=(15, 15, 3..., activation=\"relu\")`\n",
      "  \"\"\"\n",
      "C:\\Users\\achar\\Anaconda3\\lib\\site-packages\\ipykernel_launcher.py:8: UserWarning: Update your `Dense` call to the Keras 2 API: `Dense(activation=\"relu\", units=128)`\n",
      "  \n",
      "C:\\Users\\achar\\Anaconda3\\lib\\site-packages\\ipykernel_launcher.py:9: UserWarning: Update your `Dense` call to the Keras 2 API: `Dense(activation=\"relu\", units=128)`\n",
      "  if __name__ == '__main__':\n",
      "C:\\Users\\achar\\Anaconda3\\lib\\site-packages\\ipykernel_launcher.py:10: UserWarning: Update your `Dense` call to the Keras 2 API: `Dense(activation=\"relu\", units=128)`\n",
      "  # Remove the CWD from sys.path while we load stuff.\n",
      "C:\\Users\\achar\\Anaconda3\\lib\\site-packages\\ipykernel_launcher.py:11: UserWarning: Update your `Dense` call to the Keras 2 API: `Dense(activation=\"relu\", units=128)`\n",
      "  # This is added back by InteractiveShellApp.init_path()\n",
      "C:\\Users\\achar\\Anaconda3\\lib\\site-packages\\ipykernel_launcher.py:12: UserWarning: Update your `Dense` call to the Keras 2 API: `Dense(activation=\"relu\", units=128)`\n",
      "  if sys.path[0] == '':\n",
      "C:\\Users\\achar\\Anaconda3\\lib\\site-packages\\ipykernel_launcher.py:13: UserWarning: Update your `Dense` call to the Keras 2 API: `Dense(activation=\"softmax\", units=3)`\n",
      "  del sys.path[0]\n",
      "C:\\Users\\achar\\Anaconda3\\lib\\site-packages\\ipykernel_launcher.py:19: UserWarning: The `nb_epoch` argument in `fit` has been renamed `epochs`.\n"
     ]
    },
    {
     "name": "stdout",
     "output_type": "stream",
     "text": [
      "Epoch 1/30\n",
      "19906/19906 [==============================] - 51s 3ms/step - loss: 0.8446 - acc: 0.6204\n",
      "Epoch 2/30\n",
      "19906/19906 [==============================] - 49s 2ms/step - loss: 0.7227 - acc: 0.6853\n",
      "Epoch 3/30\n",
      "19906/19906 [==============================] - 49s 2ms/step - loss: 0.6587 - acc: 0.7187: 1s - loss: 0.\n",
      "Epoch 4/30\n",
      "19906/19906 [==============================] - 50s 3ms/step - loss: 0.5942 - acc: 0.7524\n",
      "Epoch 5/30\n",
      "19906/19906 [==============================] - 50s 3ms/step - loss: 0.5424 - acc: 0.7768\n",
      "Epoch 6/30\n",
      "19906/19906 [==============================] - 50s 3ms/step - loss: 0.4869 - acc: 0.7997\n",
      "Epoch 7/30\n",
      "19906/19906 [==============================] - 49s 2ms/step - loss: 0.4336 - acc: 0.8253\n",
      "Epoch 8/30\n",
      "19906/19906 [==============================] - 48s 2ms/step - loss: 0.3823 - acc: 0.8469\n",
      "Epoch 9/30\n",
      "19906/19906 [==============================] - 53s 3ms/step - loss: 0.3349 - acc: 0.8694\n",
      "Epoch 10/30\n",
      "19906/19906 [==============================] - 50s 2ms/step - loss: 0.3006 - acc: 0.8827\n",
      "Epoch 11/30\n",
      "19906/19906 [==============================] - 50s 3ms/step - loss: 0.2589 - acc: 0.9005\n",
      "Epoch 12/30\n",
      "19906/19906 [==============================] - 49s 2ms/step - loss: 0.2307 - acc: 0.9093\n",
      "Epoch 13/30\n",
      "19906/19906 [==============================] - 48s 2ms/step - loss: 0.2012 - acc: 0.9259\n",
      "Epoch 14/30\n",
      "19906/19906 [==============================] - 50s 3ms/step - loss: 0.1797 - acc: 0.9326\n",
      "Epoch 15/30\n",
      "19906/19906 [==============================] - 50s 3ms/step - loss: 0.1573 - acc: 0.9415\n",
      "Epoch 16/30\n",
      "19906/19906 [==============================] - 51s 3ms/step - loss: 0.1418 - acc: 0.9456\n",
      "Epoch 17/30\n",
      "19906/19906 [==============================] - 49s 2ms/step - loss: 0.1234 - acc: 0.9553\n",
      "Epoch 18/30\n",
      "19906/19906 [==============================] - 49s 2ms/step - loss: 0.1115 - acc: 0.9597\n",
      "Epoch 19/30\n",
      "19906/19906 [==============================] - 48s 2ms/step - loss: 0.1063 - acc: 0.9612\n",
      "Epoch 20/30\n",
      "19906/19906 [==============================] - 48s 2ms/step - loss: 0.1001 - acc: 0.9642\n",
      "Epoch 21/30\n",
      "19906/19906 [==============================] - 51s 3ms/step - loss: 0.0896 - acc: 0.9692\n",
      "Epoch 22/30\n",
      "19906/19906 [==============================] - 49s 2ms/step - loss: 0.0784 - acc: 0.9712\n",
      "Epoch 23/30\n",
      "19906/19906 [==============================] - 50s 3ms/step - loss: 0.0870 - acc: 0.9696\n",
      "Epoch 24/30\n",
      "19906/19906 [==============================] - 52s 3ms/step - loss: 0.0722 - acc: 0.9743\n",
      "Epoch 25/30\n",
      "19906/19906 [==============================] - 50s 2ms/step - loss: 0.0720 - acc: 0.9737\n",
      "Epoch 26/30\n",
      "19906/19906 [==============================] - 49s 2ms/step - loss: 0.0656 - acc: 0.9771\n",
      "Epoch 27/30\n",
      "19906/19906 [==============================] - 50s 3ms/step - loss: 0.0690 - acc: 0.9762\n",
      "Epoch 28/30\n",
      "19906/19906 [==============================] - 53s 3ms/step - loss: 0.0564 - acc: 0.9809\n",
      "Epoch 29/30\n",
      "19906/19906 [==============================] - 51s 3ms/step - loss: 0.0605 - acc: 0.9799\n",
      "Epoch 30/30\n",
      "19906/19906 [==============================] - 51s 3ms/step - loss: 0.0527 - acc: 0.9819\n",
      "19906/19906 [==============================] - 15s 745us/step\n"
     ]
    },
    {
     "data": {
      "text/plain": [
       "[0.048406088718556645, 0.9824675977571423]"
      ]
     },
     "execution_count": 104,
     "metadata": {},
     "output_type": "execute_result"
    }
   ],
   "source": [
    "classifier_9 = Sequential()\n",
    "\n",
    "classifier_9.add(Convolution2D(64,3,3,input_shape = (32,32,3), activation = 'relu'))\n",
    "classifier_9.add(MaxPooling2D(pool_size = (2,2))) #Applying Max Pooling to the convlved matrix\n",
    "classifier_9.add(Convolution2D(64,3,3,input_shape = (15,15,3), activation = 'relu')) #Adding the convolution layer\n",
    "classifier_9.add(MaxPooling2D(pool_size = (2,2))) #Applying Max Pooling to the convlved matrix\n",
    "classifier_9.add(Flatten()) #Flattening the matrix\n",
    "classifier_9.add(Dense(output_dim = 128, activation = 'relu'))\n",
    "classifier_9.add(Dense(output_dim = 128, activation = 'relu'))\n",
    "classifier_9.add(Dense(output_dim = 128, activation = 'relu'))\n",
    "classifier_9.add(Dense(output_dim = 128, activation = 'relu'))\n",
    "classifier_9.add(Dense(output_dim = 128, activation = 'relu'))\n",
    "classifier_9.add(Dense(output_dim = 3, activation = 'softmax'))\n",
    "act = keras.layers.advanced_activations.PReLU(init='one', weights=None)\n",
    "classifier_9.add(act)\n",
    "classifier_9.compile(optimizer = 'adam',loss = 'categorical_crossentropy', metrics = ['accuracy'])\n",
    "epochs = 30\n",
    "batch_size = 20 #As the size of images is small so we can afford small batch size for better performance\n",
    "classifier_9.fit(train_x, train_y, nb_epoch=epochs, batch_size=batch_size)\n",
    "\n",
    "score_9 = classifier_9.evaluate(train_x, train_y, batch_size=128)\n",
    "score_9"
   ]
  },
  {
   "cell_type": "code",
   "execution_count": 115,
   "metadata": {},
   "outputs": [
    {
     "name": "stdout",
     "output_type": "stream",
     "text": [
      "Accuracy:  98.24675977571424\n"
     ]
    }
   ],
   "source": [
    "print(\"Accuracy: \", (score_9[1])*100)"
   ]
  },
  {
   "cell_type": "markdown",
   "metadata": {},
   "source": [
    "### Size of the Layer"
   ]
  },
  {
   "cell_type": "code",
   "execution_count": 103,
   "metadata": {},
   "outputs": [
    {
     "name": "stderr",
     "output_type": "stream",
     "text": [
      "C:\\Users\\achar\\Anaconda3\\lib\\site-packages\\ipykernel_launcher.py:3: UserWarning: Update your `Conv2D` call to the Keras 2 API: `Conv2D(64, (3, 3), input_shape=(32, 32, 3..., activation=\"relu\")`\n",
      "  This is separate from the ipykernel package so we can avoid doing imports until\n",
      "C:\\Users\\achar\\Anaconda3\\lib\\site-packages\\ipykernel_launcher.py:5: UserWarning: Update your `Conv2D` call to the Keras 2 API: `Conv2D(64, (3, 3), input_shape=(15, 15, 3..., activation=\"relu\")`\n",
      "  \"\"\"\n",
      "C:\\Users\\achar\\Anaconda3\\lib\\site-packages\\ipykernel_launcher.py:8: UserWarning: Update your `Dense` call to the Keras 2 API: `Dense(activation=\"relu\", units=64)`\n",
      "  \n",
      "C:\\Users\\achar\\Anaconda3\\lib\\site-packages\\ipykernel_launcher.py:9: UserWarning: Update your `Dense` call to the Keras 2 API: `Dense(activation=\"relu\", units=64)`\n",
      "  if __name__ == '__main__':\n",
      "C:\\Users\\achar\\Anaconda3\\lib\\site-packages\\ipykernel_launcher.py:10: UserWarning: Update your `Dense` call to the Keras 2 API: `Dense(activation=\"relu\", units=64)`\n",
      "  # Remove the CWD from sys.path while we load stuff.\n",
      "C:\\Users\\achar\\Anaconda3\\lib\\site-packages\\ipykernel_launcher.py:11: UserWarning: Update your `Dense` call to the Keras 2 API: `Dense(activation=\"softmax\", units=3)`\n",
      "  # This is added back by InteractiveShellApp.init_path()\n",
      "C:\\Users\\achar\\Anaconda3\\lib\\site-packages\\ipykernel_launcher.py:17: UserWarning: The `nb_epoch` argument in `fit` has been renamed `epochs`.\n"
     ]
    },
    {
     "name": "stdout",
     "output_type": "stream",
     "text": [
      "Epoch 1/30\n",
      "19906/19906 [==============================] - 51s 3ms/step - loss: 0.8303 - acc: 0.6226\n",
      "Epoch 2/30\n",
      "19906/19906 [==============================] - 40s 2ms/step - loss: 0.7133 - acc: 0.6875\n",
      "Epoch 3/30\n",
      "19906/19906 [==============================] - 40s 2ms/step - loss: 0.6559 - acc: 0.7173\n",
      "Epoch 4/30\n",
      "19906/19906 [==============================] - 40s 2ms/step - loss: 0.6054 - acc: 0.7425\n",
      "Epoch 5/30\n",
      "19906/19906 [==============================] - 40s 2ms/step - loss: 0.5589 - acc: 0.7675\n",
      "Epoch 6/30\n",
      "19906/19906 [==============================] - 41s 2ms/step - loss: 0.5164 - acc: 0.7877\n",
      "Epoch 7/30\n",
      "19906/19906 [==============================] - 42s 2ms/step - loss: 0.4735 - acc: 0.8072\n",
      "Epoch 8/30\n",
      "19906/19906 [==============================] - 43s 2ms/step - loss: 0.4343 - acc: 0.8264\n",
      "Epoch 9/30\n",
      "19906/19906 [==============================] - 43s 2ms/step - loss: 0.3958 - acc: 0.8431\n",
      "Epoch 10/30\n",
      "19906/19906 [==============================] - 43s 2ms/step - loss: 0.3653 - acc: 0.8531\n",
      "Epoch 11/30\n",
      "19906/19906 [==============================] - 43s 2ms/step - loss: 0.3334 - acc: 0.8688\n",
      "Epoch 12/30\n",
      "19906/19906 [==============================] - 43s 2ms/step - loss: 0.3020 - acc: 0.8790\n",
      "Epoch 13/30\n",
      "19906/19906 [==============================] - 44s 2ms/step - loss: 0.2757 - acc: 0.8935\n",
      "Epoch 14/30\n",
      "19906/19906 [==============================] - 45s 2ms/step - loss: 0.2490 - acc: 0.9021\n",
      "Epoch 15/30\n",
      "19906/19906 [==============================] - 45s 2ms/step - loss: 0.2283 - acc: 0.9107\n",
      "Epoch 16/30\n",
      "19906/19906 [==============================] - 45s 2ms/step - loss: 0.2111 - acc: 0.9186\n",
      "Epoch 17/30\n",
      "19906/19906 [==============================] - 44s 2ms/step - loss: 0.1870 - acc: 0.9279\n",
      "Epoch 18/30\n",
      "19906/19906 [==============================] - 45s 2ms/step - loss: 0.1726 - acc: 0.9342\n",
      "Epoch 19/30\n",
      "19906/19906 [==============================] - 45s 2ms/step - loss: 0.1578 - acc: 0.9400\n",
      "Epoch 20/30\n",
      "19906/19906 [==============================] - 46s 2ms/step - loss: 0.1449 - acc: 0.9467\n",
      "Epoch 21/30\n",
      "19906/19906 [==============================] - 45s 2ms/step - loss: 0.1371 - acc: 0.9499\n",
      "Epoch 22/30\n",
      "19906/19906 [==============================] - 45s 2ms/step - loss: 0.1220 - acc: 0.9534\n",
      "Epoch 23/30\n",
      "19906/19906 [==============================] - 45s 2ms/step - loss: 0.1184 - acc: 0.9561\n",
      "Epoch 24/30\n",
      "19906/19906 [==============================] - 45s 2ms/step - loss: 0.1113 - acc: 0.9573\n",
      "Epoch 25/30\n",
      "19906/19906 [==============================] - 45s 2ms/step - loss: 0.0984 - acc: 0.9637\n",
      "Epoch 26/30\n",
      "19906/19906 [==============================] - 45s 2ms/step - loss: 0.0891 - acc: 0.9676\n",
      "Epoch 27/30\n",
      "19906/19906 [==============================] - 45s 2ms/step - loss: 0.0933 - acc: 0.9665\n",
      "Epoch 28/30\n",
      "19906/19906 [==============================] - 45s 2ms/step - loss: 0.0862 - acc: 0.9692\n",
      "Epoch 29/30\n",
      "19906/19906 [==============================] - 45s 2ms/step - loss: 0.0809 - acc: 0.9701\n",
      "Epoch 30/30\n",
      "19906/19906 [==============================] - 45s 2ms/step - loss: 0.0676 - acc: 0.9768\n",
      "19906/19906 [==============================] - 14s 709us/step\n"
     ]
    },
    {
     "data": {
      "text/plain": [
       "[0.06851508052555338, 0.9758364312746747]"
      ]
     },
     "execution_count": 103,
     "metadata": {},
     "output_type": "execute_result"
    }
   ],
   "source": [
    "classifier_10 = Sequential()\n",
    "\n",
    "classifier_10.add(Convolution2D(64,3,3,input_shape = (32,32,3), activation = 'relu'))\n",
    "classifier_10.add(MaxPooling2D(pool_size = (2,2))) #Applying Max Pooling to the convlved matrix\n",
    "classifier_10.add(Convolution2D(64,3,3,input_shape = (15,15,3), activation = 'relu')) #Adding the convolution layer\n",
    "classifier_10.add(MaxPooling2D(pool_size = (2,2))) #Applying Max Pooling to the convlved matrix\n",
    "classifier_10.add(Flatten()) #Flattening the matrix\n",
    "classifier_10.add(Dense(output_dim = 64, activation = 'relu'))\n",
    "classifier_10.add(Dense(output_dim = 64, activation = 'relu'))\n",
    "classifier_10.add(Dense(output_dim = 64, activation = 'relu'))\n",
    "classifier_10.add(Dense(output_dim = 3, activation = 'softmax'))\n",
    "# act = keras.layers.advanced_activations.PReLU(init='one', weights=None)\n",
    "# classifier_10.add(act)\n",
    "classifier_10.compile(optimizer = 'adam',loss = 'categorical_crossentropy', metrics = ['accuracy'])\n",
    "epochs = 30\n",
    "batch_size = 20 #As the size of images is small so we can afford small batch size for better performance\n",
    "classifier_10.fit(train_x, train_y, nb_epoch=epochs, batch_size=batch_size)\n",
    "\n",
    "score_10 = classifier_10.evaluate(train_x, train_y, batch_size=128)\n",
    "score_10"
   ]
  },
  {
   "cell_type": "code",
   "execution_count": 116,
   "metadata": {},
   "outputs": [
    {
     "name": "stdout",
     "output_type": "stream",
     "text": [
      "Accuracy:  97.58364312746747\n"
     ]
    }
   ],
   "source": [
    "print(\"Accuracy: \", (score_10[1])*100)"
   ]
  },
  {
   "cell_type": "markdown",
   "metadata": {},
   "source": [
    "##### How does it effect the accuracy?\n",
    "**Ans:** As we can see, I have change number of layers and size of the layer, the accuracy of each is 98% and 97% respectively. We can see that as we add a layer, the accuracy increases.\n",
    "\n",
    "##### How does it effect how quickly the network plateaus?\n",
    "**Ans:** Network Plateau is not acheived till 30 epochs in both the case."
   ]
  },
  {
   "cell_type": "markdown",
   "metadata": {},
   "source": [
    "### Part G: Network initialization"
   ]
  },
  {
   "cell_type": "markdown",
   "metadata": {},
   "source": [
    "### Using Gaussian"
   ]
  },
  {
   "cell_type": "code",
   "execution_count": 102,
   "metadata": {},
   "outputs": [
    {
     "name": "stderr",
     "output_type": "stream",
     "text": [
      "C:\\Users\\achar\\Anaconda3\\lib\\site-packages\\ipykernel_launcher.py:3: UserWarning: Update your `Conv2D` call to the Keras 2 API: `Conv2D(64, (3, 3), input_shape=(32, 32, 3..., activation=\"relu\")`\n",
      "  This is separate from the ipykernel package so we can avoid doing imports until\n",
      "C:\\Users\\achar\\Anaconda3\\lib\\site-packages\\ipykernel_launcher.py:5: UserWarning: Update your `Conv2D` call to the Keras 2 API: `Conv2D(64, (3, 3), input_shape=(15, 15, 3..., activation=\"relu\")`\n",
      "  \"\"\"\n",
      "C:\\Users\\achar\\Anaconda3\\lib\\site-packages\\ipykernel_launcher.py:8: UserWarning: Update your `Dense` call to the Keras 2 API: `Dense(kernel_initializer=\"glorot_normal\", activation=\"relu\", units=64)`\n",
      "  \n",
      "C:\\Users\\achar\\Anaconda3\\lib\\site-packages\\ipykernel_launcher.py:9: UserWarning: Update your `Dense` call to the Keras 2 API: `Dense(kernel_initializer=\"glorot_normal\", activation=\"relu\", units=64)`\n",
      "  if __name__ == '__main__':\n",
      "C:\\Users\\achar\\Anaconda3\\lib\\site-packages\\ipykernel_launcher.py:10: UserWarning: Update your `Dense` call to the Keras 2 API: `Dense(kernel_initializer=\"glorot_normal\", activation=\"relu\", units=64)`\n",
      "  # Remove the CWD from sys.path while we load stuff.\n",
      "C:\\Users\\achar\\Anaconda3\\lib\\site-packages\\ipykernel_launcher.py:11: UserWarning: Update your `Dense` call to the Keras 2 API: `Dense(kernel_initializer=\"glorot_normal\", activation=\"softmax\", units=3)`\n",
      "  # This is added back by InteractiveShellApp.init_path()\n",
      "C:\\Users\\achar\\Anaconda3\\lib\\site-packages\\ipykernel_launcher.py:17: UserWarning: The `nb_epoch` argument in `fit` has been renamed `epochs`.\n"
     ]
    },
    {
     "name": "stdout",
     "output_type": "stream",
     "text": [
      "Epoch 1/30\n",
      "19906/19906 [==============================] - 46s 2ms/step - loss: 0.8287 - acc: 0.6244\n",
      "Epoch 2/30\n",
      "19906/19906 [==============================] - 47s 2ms/step - loss: 0.7055 - acc: 0.6931\n",
      "Epoch 3/30\n",
      "19906/19906 [==============================] - 48s 2ms/step - loss: 0.6489 - acc: 0.7232\n",
      "Epoch 4/30\n",
      "19906/19906 [==============================] - 44s 2ms/step - loss: 0.6020 - acc: 0.7417\n",
      "Epoch 5/30\n",
      "19906/19906 [==============================] - 46s 2ms/step - loss: 0.5655 - acc: 0.7611\n",
      "Epoch 6/30\n",
      "19906/19906 [==============================] - 44s 2ms/step - loss: 0.5232 - acc: 0.7791\n",
      "Epoch 7/30\n",
      "19906/19906 [==============================] - 44s 2ms/step - loss: 0.4815 - acc: 0.8034\n",
      "Epoch 8/30\n",
      "19906/19906 [==============================] - 44s 2ms/step - loss: 0.4515 - acc: 0.8159\n",
      "Epoch 9/30\n",
      "19906/19906 [==============================] - 45s 2ms/step - loss: 0.4125 - acc: 0.8301\n",
      "Epoch 10/30\n",
      "19906/19906 [==============================] - 46s 2ms/step - loss: 0.3830 - acc: 0.8443\n",
      "Epoch 11/30\n",
      "19906/19906 [==============================] - 45s 2ms/step - loss: 0.3527 - acc: 0.8583\n",
      "Epoch 12/30\n",
      "19906/19906 [==============================] - 45s 2ms/step - loss: 0.3238 - acc: 0.8697\n",
      "Epoch 13/30\n",
      "19906/19906 [==============================] - 47s 2ms/step - loss: 0.2867 - acc: 0.8887\n",
      "Epoch 14/30\n",
      "19906/19906 [==============================] - 46s 2ms/step - loss: 0.2694 - acc: 0.8922\n",
      "Epoch 15/30\n",
      "19906/19906 [==============================] - 45s 2ms/step - loss: 0.2487 - acc: 0.9005\n",
      "Epoch 16/30\n",
      "19906/19906 [==============================] - 46s 2ms/step - loss: 0.2251 - acc: 0.9103\n",
      "Epoch 17/30\n",
      "19906/19906 [==============================] - 45s 2ms/step - loss: 0.2032 - acc: 0.9199\n",
      "Epoch 18/30\n",
      "19906/19906 [==============================] - 44s 2ms/step - loss: 0.1907 - acc: 0.9261\n",
      "Epoch 19/30\n",
      "19906/19906 [==============================] - 44s 2ms/step - loss: 0.1695 - acc: 0.9347\n",
      "Epoch 20/30\n",
      "19906/19906 [==============================] - 44s 2ms/step - loss: 0.1552 - acc: 0.9400\n",
      "Epoch 21/30\n",
      "19906/19906 [==============================] - 45s 2ms/step - loss: 0.1489 - acc: 0.9438\n",
      "Epoch 22/30\n",
      "19906/19906 [==============================] - 44s 2ms/step - loss: 0.1369 - acc: 0.9465\n",
      "Epoch 23/30\n",
      "19906/19906 [==============================] - 46s 2ms/step - loss: 0.1306 - acc: 0.9507\n",
      "Epoch 24/30\n",
      "19906/19906 [==============================] - 45s 2ms/step - loss: 0.1150 - acc: 0.9574\n",
      "Epoch 25/30\n",
      "19906/19906 [==============================] - 45s 2ms/step - loss: 0.1127 - acc: 0.9574\n",
      "Epoch 26/30\n",
      "19906/19906 [==============================] - 45s 2ms/step - loss: 0.1090 - acc: 0.9589\n",
      "Epoch 27/30\n",
      "19906/19906 [==============================] - 46s 2ms/step - loss: 0.1019 - acc: 0.9624\n",
      "Epoch 28/30\n",
      "19906/19906 [==============================] - 45s 2ms/step - loss: 0.0953 - acc: 0.9655\n",
      "Epoch 29/30\n",
      "19906/19906 [==============================] - 47s 2ms/step - loss: 0.0938 - acc: 0.9656\n",
      "Epoch 30/30\n",
      "19906/19906 [==============================] - 47s 2ms/step - loss: 0.0906 - acc: 0.9673\n",
      "19906/19906 [==============================] - 14s 725us/step\n"
     ]
    },
    {
     "data": {
      "text/plain": [
       "[0.1585465131270805, 0.9474530293332336]"
      ]
     },
     "execution_count": 102,
     "metadata": {},
     "output_type": "execute_result"
    }
   ],
   "source": [
    "classifier_11 = Sequential()\n",
    "\n",
    "classifier_11.add(Convolution2D(64,3,3,input_shape = (32,32,3), activation = 'relu'))\n",
    "classifier_11.add(MaxPooling2D(pool_size = (2,2))) #Applying Max Pooling to the convlved matrix\n",
    "classifier_11.add(Convolution2D(64,3,3,input_shape = (15,15,3), activation = 'relu')) #Adding the convolution layer\n",
    "classifier_11.add(MaxPooling2D(pool_size = (2,2))) #Applying Max Pooling to the convlved matrix\n",
    "classifier_11.add(Flatten()) #Flattening the matrix\n",
    "classifier_11.add(Dense(output_dim = 64, kernel_initializer=\"glorot_normal\", activation = 'relu'))\n",
    "classifier_11.add(Dense(output_dim = 64, kernel_initializer=\"glorot_normal\", activation = 'relu'))\n",
    "classifier_11.add(Dense(output_dim = 64, kernel_initializer=\"glorot_normal\", activation = 'relu'))\n",
    "classifier_11.add(Dense(output_dim = 3, kernel_initializer=\"glorot_normal\", activation = 'softmax'))\n",
    "# act = keras.layers.advanced_activations.PReLU(init='one', weights=None)\n",
    "# classifier_11.add(act)\n",
    "classifier_11.compile(optimizer = 'adam',loss = 'categorical_crossentropy', metrics = ['accuracy'])\n",
    "epochs = 30\n",
    "batch_size = 20 #As the size of images is small so we can afford small batch size for better performance\n",
    "classifier_11.fit(train_x, train_y, nb_epoch=epochs, batch_size=batch_size)\n",
    "\n",
    "score_11 = classifier_11.evaluate(train_x, train_y, batch_size=128)\n",
    "score_11"
   ]
  },
  {
   "cell_type": "code",
   "execution_count": 117,
   "metadata": {},
   "outputs": [
    {
     "name": "stdout",
     "output_type": "stream",
     "text": [
      "Accuracy:  97.01597508229072\n"
     ]
    }
   ],
   "source": [
    "print(\"Accuracy: \", (score_11[1])*100)"
   ]
  },
  {
   "cell_type": "markdown",
   "metadata": {},
   "source": [
    "### Using Xavier Uniform"
   ]
  },
  {
   "cell_type": "code",
   "execution_count": 105,
   "metadata": {},
   "outputs": [
    {
     "name": "stderr",
     "output_type": "stream",
     "text": [
      "C:\\Users\\achar\\Anaconda3\\lib\\site-packages\\ipykernel_launcher.py:3: UserWarning: Update your `Conv2D` call to the Keras 2 API: `Conv2D(64, (3, 3), input_shape=(32, 32, 3..., activation=\"relu\")`\n",
      "  This is separate from the ipykernel package so we can avoid doing imports until\n",
      "C:\\Users\\achar\\Anaconda3\\lib\\site-packages\\ipykernel_launcher.py:5: UserWarning: Update your `Conv2D` call to the Keras 2 API: `Conv2D(64, (3, 3), input_shape=(15, 15, 3..., activation=\"relu\")`\n",
      "  \"\"\"\n",
      "C:\\Users\\achar\\Anaconda3\\lib\\site-packages\\ipykernel_launcher.py:8: UserWarning: Update your `Dense` call to the Keras 2 API: `Dense(kernel_initializer=\"glorot_uniform\", activation=\"relu\", units=64)`\n",
      "  \n",
      "C:\\Users\\achar\\Anaconda3\\lib\\site-packages\\ipykernel_launcher.py:9: UserWarning: Update your `Dense` call to the Keras 2 API: `Dense(kernel_initializer=\"glorot_uniform\", activation=\"relu\", units=64)`\n",
      "  if __name__ == '__main__':\n",
      "C:\\Users\\achar\\Anaconda3\\lib\\site-packages\\ipykernel_launcher.py:10: UserWarning: Update your `Dense` call to the Keras 2 API: `Dense(kernel_initializer=\"glorot_uniform\", activation=\"relu\", units=64)`\n",
      "  # Remove the CWD from sys.path while we load stuff.\n",
      "C:\\Users\\achar\\Anaconda3\\lib\\site-packages\\ipykernel_launcher.py:11: UserWarning: Update your `Dense` call to the Keras 2 API: `Dense(kernel_initializer=\"glorot_uniform\", activation=\"softmax\", units=3)`\n",
      "  # This is added back by InteractiveShellApp.init_path()\n",
      "C:\\Users\\achar\\Anaconda3\\lib\\site-packages\\ipykernel_launcher.py:17: UserWarning: The `nb_epoch` argument in `fit` has been renamed `epochs`.\n"
     ]
    },
    {
     "name": "stdout",
     "output_type": "stream",
     "text": [
      "Epoch 1/30\n",
      "19906/19906 [==============================] - 45s 2ms/step - loss: 0.8261 - acc: 0.6221\n",
      "Epoch 2/30\n",
      "19906/19906 [==============================] - 44s 2ms/step - loss: 0.7137 - acc: 0.6867\n",
      "Epoch 3/30\n",
      "19906/19906 [==============================] - 46s 2ms/step - loss: 0.6544 - acc: 0.7157\n",
      "Epoch 4/30\n",
      "19906/19906 [==============================] - 46s 2ms/step - loss: 0.6072 - acc: 0.7361\n",
      "Epoch 5/30\n",
      "19906/19906 [==============================] - 43s 2ms/step - loss: 0.5578 - acc: 0.7626\n",
      "Epoch 6/30\n",
      "19906/19906 [==============================] - 45s 2ms/step - loss: 0.5099 - acc: 0.7871\n",
      "Epoch 7/30\n",
      "19906/19906 [==============================] - 45s 2ms/step - loss: 0.4653 - acc: 0.8046\n",
      "Epoch 8/30\n",
      "19906/19906 [==============================] - 45s 2ms/step - loss: 0.4302 - acc: 0.8249\n",
      "Epoch 9/30\n",
      "19906/19906 [==============================] - 44s 2ms/step - loss: 0.3959 - acc: 0.8387\n",
      "Epoch 10/30\n",
      "19906/19906 [==============================] - 44s 2ms/step - loss: 0.3602 - acc: 0.8532\n",
      "Epoch 11/30\n",
      "19906/19906 [==============================] - 44s 2ms/step - loss: 0.3258 - acc: 0.8702\n",
      "Epoch 12/30\n",
      "19906/19906 [==============================] - 46s 2ms/step - loss: 0.2969 - acc: 0.8803\n",
      "Epoch 13/30\n",
      "19906/19906 [==============================] - 47s 2ms/step - loss: 0.2772 - acc: 0.8883\n",
      "Epoch 14/30\n",
      "19906/19906 [==============================] - 46s 2ms/step - loss: 0.2432 - acc: 0.9005\n",
      "Epoch 15/30\n",
      "19906/19906 [==============================] - 48s 2ms/step - loss: 0.2262 - acc: 0.9102\n",
      "Epoch 16/30\n",
      "19906/19906 [==============================] - 48s 2ms/step - loss: 0.2015 - acc: 0.9217\n",
      "Epoch 17/30\n",
      "19906/19906 [==============================] - 45s 2ms/step - loss: 0.1824 - acc: 0.9298\n",
      "Epoch 18/30\n",
      "19906/19906 [==============================] - 49s 2ms/step - loss: 0.1741 - acc: 0.9330\n",
      "Epoch 19/30\n",
      "19906/19906 [==============================] - 51s 3ms/step - loss: 0.1600 - acc: 0.9376\n",
      "Epoch 20/30\n",
      "19906/19906 [==============================] - 48s 2ms/step - loss: 0.1449 - acc: 0.9458\n",
      "Epoch 21/30\n",
      "19906/19906 [==============================] - 47s 2ms/step - loss: 0.1391 - acc: 0.9487\n",
      "Epoch 22/30\n",
      "19906/19906 [==============================] - 45s 2ms/step - loss: 0.1257 - acc: 0.9534\n",
      "Epoch 23/30\n",
      "19906/19906 [==============================] - 50s 3ms/step - loss: 0.1181 - acc: 0.9561\n",
      "Epoch 24/30\n",
      "19906/19906 [==============================] - 49s 2ms/step - loss: 0.1137 - acc: 0.9588\n",
      "Epoch 25/30\n",
      "19906/19906 [==============================] - 47s 2ms/step - loss: 0.1026 - acc: 0.9617\n",
      "Epoch 26/30\n",
      "19906/19906 [==============================] - 48s 2ms/step - loss: 0.0984 - acc: 0.9638\n",
      "Epoch 27/30\n",
      "19906/19906 [==============================] - 49s 2ms/step - loss: 0.0899 - acc: 0.9672\n",
      "Epoch 28/30\n",
      "19906/19906 [==============================] - 52s 3ms/step - loss: 0.0914 - acc: 0.9661\n",
      "Epoch 29/30\n",
      "19906/19906 [==============================] - 50s 3ms/step - loss: 0.0837 - acc: 0.9699\n",
      "Epoch 30/30\n",
      "19906/19906 [==============================] - 48s 2ms/step - loss: 0.0831 - acc: 0.9708\n",
      "19906/19906 [==============================] - 15s 736us/step\n"
     ]
    },
    {
     "data": {
      "text/plain": [
       "[0.08590449643269216, 0.9701597508229072]"
      ]
     },
     "execution_count": 105,
     "metadata": {},
     "output_type": "execute_result"
    }
   ],
   "source": [
    "classifier_11 = Sequential()\n",
    "\n",
    "classifier_11.add(Convolution2D(64,3,3,input_shape = (32,32,3), activation = 'relu'))\n",
    "classifier_11.add(MaxPooling2D(pool_size = (2,2))) #Applying Max Pooling to the convlved matrix\n",
    "classifier_11.add(Convolution2D(64,3,3,input_shape = (15,15,3), activation = 'relu')) #Adding the convolution layer\n",
    "classifier_11.add(MaxPooling2D(pool_size = (2,2))) #Applying Max Pooling to the convlved matrix\n",
    "classifier_11.add(Flatten()) #Flattening the matrix\n",
    "classifier_11.add(Dense(output_dim = 64, kernel_initializer=\"glorot_uniform\", activation = 'relu'))\n",
    "classifier_11.add(Dense(output_dim = 64, kernel_initializer=\"glorot_uniform\", activation = 'relu'))\n",
    "classifier_11.add(Dense(output_dim = 64, kernel_initializer=\"glorot_uniform\", activation = 'relu'))\n",
    "classifier_11.add(Dense(output_dim = 3, kernel_initializer=\"glorot_uniform\", activation = 'softmax'))\n",
    "# act = keras.layers.advanced_activations.PReLU(init='one', weights=None)\n",
    "# classifier_11.add(act)\n",
    "classifier_11.compile(optimizer = 'adam',loss = 'categorical_crossentropy', metrics = ['accuracy'])\n",
    "epochs = 30\n",
    "batch_size = 20 #As the size of images is small so we can afford small batch size for better performance\n",
    "classifier_11.fit(train_x, train_y, nb_epoch=epochs, batch_size=batch_size)\n",
    "\n",
    "score_11 = classifier_11.evaluate(train_x, train_y, batch_size=128)\n",
    "score_11"
   ]
  },
  {
   "cell_type": "code",
   "execution_count": 120,
   "metadata": {},
   "outputs": [
    {
     "name": "stdout",
     "output_type": "stream",
     "text": [
      "Accuracy:  97.01597508229072\n"
     ]
    }
   ],
   "source": [
    "print(\"Accuracy: \", (score_11[1])*100)"
   ]
  },
  {
   "cell_type": "markdown",
   "metadata": {},
   "source": [
    "##### How does it effect the accuracy?\n",
    "**Ans:** As we can see, I have used 2 network initializers Gaussian and Xavier Uniform, the accuracy of each is 94% and 97% respectively. We can see that as we add a layer, the accuracy increases.\n",
    "\n",
    "##### How does it effect how quickly the network plateaus?\n",
    "**Ans:** Network Plateau is not acheived till 30 epochs in both the case."
   ]
  },
  {
   "cell_type": "markdown",
   "metadata": {},
   "source": [
    "### Refernces:\n",
    "\n",
    "- https://www.kaggle.com/ashishpatel26/indian-movie-face-database-imfdm-keras\n",
    "- https://github.com/smartyining/IMFDB\n",
    "- https://machinelearningmastery.com/improve-deep-learning-performance/\n",
    "- https://machinelearningmastery.com/reshape-input-data-long-short-term-memory-networks-keras/"
   ]
  },
  {
   "cell_type": "code",
   "execution_count": null,
   "metadata": {},
   "outputs": [],
   "source": []
  }
 ],
 "metadata": {
  "kernelspec": {
   "display_name": "Python 3",
   "language": "python",
   "name": "python3"
  },
  "language_info": {
   "codemirror_mode": {
    "name": "ipython",
    "version": 3
   },
   "file_extension": ".py",
   "mimetype": "text/x-python",
   "name": "python",
   "nbconvert_exporter": "python",
   "pygments_lexer": "ipython3",
   "version": "3.6.5"
  }
 },
 "nbformat": 4,
 "nbformat_minor": 2
}
